{
 "cells": [
  {
   "cell_type": "code",
   "execution_count": 4,
   "metadata": {
    "collapsed": true
   },
   "outputs": [],
   "source": [
    "import os\n",
    "import numpy as np\n",
    "import pandas as pd"
   ]
  },
  {
   "cell_type": "code",
   "execution_count": 5,
   "metadata": {
    "collapsed": true
   },
   "outputs": [],
   "source": [
    "\n",
    "data_path = \"submissions\"\n",
    "def get_dataframe(file_name=\"train.csv\"):\n",
    "    return pd.io.parsers.read_csv(os.path.join(data_path, file_name))"
   ]
  },
  {
   "cell_type": "code",
   "execution_count": 22,
   "metadata": {
    "collapsed": true
   },
   "outputs": [],
   "source": [
    "'''\n",
    "lr = pd.read_csv(os.path.join(data_path, 'method_LR_logodds200.csv'))\n",
    "rf = pd.read_csv(os.path.join(data_path, 'method_RF_logodds22.csv'))\n",
    "'''"
   ]
  },
  {
   "cell_type": "code",
   "execution_count": 33,
   "metadata": {
    "collapsed": false
   },
   "outputs": [],
   "source": [
    "nn212 = pd.read_csv(os.path.join(data_path, 'dont-overwrite/method_NN_logodds212.csv'))"
   ]
  },
  {
   "cell_type": "code",
   "execution_count": null,
   "metadata": {
    "collapsed": true
   },
   "outputs": [],
   "source": [
    "nn22 = pd.read_csv(os.path.join(data_path, 'method_NN_logodds22.csv'))"
   ]
  },
  {
   "cell_type": "code",
   "execution_count": 56,
   "metadata": {
    "collapsed": true
   },
   "outputs": [],
   "source": [
    "nn211 = pd.read_csv(os.path.join(data_path, 'method_NN_logodds211.csv'))"
   ]
  },
  {
   "cell_type": "code",
   "execution_count": 35,
   "metadata": {
    "collapsed": true
   },
   "outputs": [],
   "source": [
    "nn200 = pd.read_csv(os.path.join(data_path, 'method_NN_logodds200.csv'))"
   ]
  },
  {
   "cell_type": "code",
   "execution_count": null,
   "metadata": {
    "collapsed": true
   },
   "outputs": [],
   "source": [
    "# terriby overfit:\n",
    "#nn191 = pd.read_csv(os.path.join(data_path, 'method_NN_logodds_1.91.csv'))"
   ]
  },
  {
   "cell_type": "code",
   "execution_count": 55,
   "metadata": {
    "collapsed": false
   },
   "outputs": [],
   "source": [
    "nn_J = pd.read_csv(os.path.join(data_path, 'method_NN_logodds_jackson.csv'))"
   ]
  },
  {
   "cell_type": "code",
   "execution_count": 9,
   "metadata": {
    "collapsed": true
   },
   "outputs": [],
   "source": []
  },
  {
   "cell_type": "code",
   "execution_count": 57,
   "metadata": {
    "collapsed": false
   },
   "outputs": [],
   "source": [
    "df_concat = pd.concat((nn212, nn22, nn200, nn211, nn_J))\n",
    "by_row_index = df_concat.groupby(df_concat.index)\n",
    "df_means = by_row_index.mean()"
   ]
  },
  {
   "cell_type": "code",
   "execution_count": null,
   "metadata": {
    "collapsed": true
   },
   "outputs": [],
   "source": [
    "# merge data w labels for tableau\n",
    "all_feat = pd.read_csv(os.path.join('data', 'features_all.csv'))"
   ]
  },
  {
   "cell_type": "code",
   "execution_count": null,
   "metadata": {
    "collapsed": true
   },
   "outputs": [],
   "source": [
    "all_labels = pd.read_csv(os.path.join('data', 'labels_all.csv'),squeeze=True)\n",
    "all_feat['Category'] = all_labels\n",
    "all_feat.head()"
   ]
  },
  {
   "cell_type": "code",
   "execution_count": 53,
   "metadata": {
    "collapsed": false
   },
   "outputs": [],
   "source": [
    "del all_feat['Id']\n",
    "all_feat.to_csv(os.path.join('data','engineered_with_cats.csv'),index=False)"
   ]
  },
  {
   "cell_type": "code",
   "execution_count": 58,
   "metadata": {
    "collapsed": false
   },
   "outputs": [],
   "source": [
    "del df_means['Id']"
   ]
  },
  {
   "cell_type": "code",
   "execution_count": 59,
   "metadata": {
    "collapsed": false
   },
   "outputs": [],
   "source": [
    "df_means.to_csv(os.path.join(data_path,'ensemble_nn212_nn22_nn200_nn211_nn_J.csv'),index_label=\"Id\",na_rep=\"0\")"
   ]
  },
  {
   "cell_type": "code",
   "execution_count": 50,
   "metadata": {
    "collapsed": false
   },
   "outputs": [
    {
     "data": {
      "text/html": [
       "<div>\n",
       "<table border=\"1\" class=\"dataframe\">\n",
       "  <thead>\n",
       "    <tr style=\"text-align: right;\">\n",
       "      <th></th>\n",
       "      <th>ARSON</th>\n",
       "      <th>ASSAULT</th>\n",
       "      <th>BAD CHECKS</th>\n",
       "      <th>BRIBERY</th>\n",
       "      <th>BURGLARY</th>\n",
       "      <th>DISORDERLY CONDUCT</th>\n",
       "      <th>DRIVING UNDER THE INFLUENCE</th>\n",
       "      <th>DRUG/NARCOTIC</th>\n",
       "      <th>DRUNKENNESS</th>\n",
       "      <th>EMBEZZLEMENT</th>\n",
       "      <th>...</th>\n",
       "      <th>SEX OFFENSES NON FORCIBLE</th>\n",
       "      <th>STOLEN PROPERTY</th>\n",
       "      <th>SUICIDE</th>\n",
       "      <th>SUSPICIOUS OCC</th>\n",
       "      <th>TREA</th>\n",
       "      <th>TRESPASS</th>\n",
       "      <th>VANDALISM</th>\n",
       "      <th>VEHICLE THEFT</th>\n",
       "      <th>WARRANTS</th>\n",
       "      <th>WEAPON LAWS</th>\n",
       "    </tr>\n",
       "  </thead>\n",
       "  <tbody>\n",
       "    <tr>\n",
       "      <th>0</th>\n",
       "      <td>0.005678</td>\n",
       "      <td>0.094827</td>\n",
       "      <td>0.000016</td>\n",
       "      <td>0.000018</td>\n",
       "      <td>0.037898</td>\n",
       "      <td>0.000933</td>\n",
       "      <td>0.001280</td>\n",
       "      <td>0.003085</td>\n",
       "      <td>0.000897</td>\n",
       "      <td>0.000271</td>\n",
       "      <td>...</td>\n",
       "      <td>0.000050</td>\n",
       "      <td>0.000248</td>\n",
       "      <td>0.000285</td>\n",
       "      <td>0.052792</td>\n",
       "      <td>8.631978e-10</td>\n",
       "      <td>0.002720</td>\n",
       "      <td>0.100595</td>\n",
       "      <td>0.187596</td>\n",
       "      <td>0.020468</td>\n",
       "      <td>0.004731</td>\n",
       "    </tr>\n",
       "    <tr>\n",
       "      <th>1</th>\n",
       "      <td>0.001572</td>\n",
       "      <td>0.077418</td>\n",
       "      <td>0.000007</td>\n",
       "      <td>0.000025</td>\n",
       "      <td>0.001248</td>\n",
       "      <td>0.000456</td>\n",
       "      <td>0.006496</td>\n",
       "      <td>0.010504</td>\n",
       "      <td>0.001181</td>\n",
       "      <td>0.000041</td>\n",
       "      <td>...</td>\n",
       "      <td>0.000015</td>\n",
       "      <td>0.000391</td>\n",
       "      <td>0.000022</td>\n",
       "      <td>0.033808</td>\n",
       "      <td>7.599497e-10</td>\n",
       "      <td>0.000374</td>\n",
       "      <td>0.046313</td>\n",
       "      <td>0.080658</td>\n",
       "      <td>0.046646</td>\n",
       "      <td>0.006204</td>\n",
       "    </tr>\n",
       "    <tr>\n",
       "      <th>2</th>\n",
       "      <td>0.002466</td>\n",
       "      <td>0.020342</td>\n",
       "      <td>0.000008</td>\n",
       "      <td>0.000002</td>\n",
       "      <td>0.149191</td>\n",
       "      <td>0.000328</td>\n",
       "      <td>0.000872</td>\n",
       "      <td>0.000519</td>\n",
       "      <td>0.000150</td>\n",
       "      <td>0.000137</td>\n",
       "      <td>...</td>\n",
       "      <td>0.000003</td>\n",
       "      <td>0.000105</td>\n",
       "      <td>0.000216</td>\n",
       "      <td>0.015266</td>\n",
       "      <td>4.376087e-10</td>\n",
       "      <td>0.001610</td>\n",
       "      <td>0.060009</td>\n",
       "      <td>0.208036</td>\n",
       "      <td>0.003083</td>\n",
       "      <td>0.000701</td>\n",
       "    </tr>\n",
       "    <tr>\n",
       "      <th>3</th>\n",
       "      <td>0.001451</td>\n",
       "      <td>0.221824</td>\n",
       "      <td>0.000086</td>\n",
       "      <td>0.002140</td>\n",
       "      <td>0.013582</td>\n",
       "      <td>0.006302</td>\n",
       "      <td>0.003781</td>\n",
       "      <td>0.050687</td>\n",
       "      <td>0.029813</td>\n",
       "      <td>0.000247</td>\n",
       "      <td>...</td>\n",
       "      <td>0.000204</td>\n",
       "      <td>0.008809</td>\n",
       "      <td>0.000697</td>\n",
       "      <td>0.042463</td>\n",
       "      <td>6.562384e-08</td>\n",
       "      <td>0.006675</td>\n",
       "      <td>0.049848</td>\n",
       "      <td>0.014601</td>\n",
       "      <td>0.075101</td>\n",
       "      <td>0.044996</td>\n",
       "    </tr>\n",
       "    <tr>\n",
       "      <th>4</th>\n",
       "      <td>0.001451</td>\n",
       "      <td>0.221824</td>\n",
       "      <td>0.000086</td>\n",
       "      <td>0.002140</td>\n",
       "      <td>0.013582</td>\n",
       "      <td>0.006302</td>\n",
       "      <td>0.003781</td>\n",
       "      <td>0.050687</td>\n",
       "      <td>0.029813</td>\n",
       "      <td>0.000247</td>\n",
       "      <td>...</td>\n",
       "      <td>0.000204</td>\n",
       "      <td>0.008809</td>\n",
       "      <td>0.000697</td>\n",
       "      <td>0.042463</td>\n",
       "      <td>6.562384e-08</td>\n",
       "      <td>0.006675</td>\n",
       "      <td>0.049848</td>\n",
       "      <td>0.014601</td>\n",
       "      <td>0.075101</td>\n",
       "      <td>0.044996</td>\n",
       "    </tr>\n",
       "  </tbody>\n",
       "</table>\n",
       "<p>5 rows × 39 columns</p>\n",
       "</div>"
      ],
      "text/plain": [
       "      ARSON   ASSAULT  BAD CHECKS   BRIBERY  BURGLARY  DISORDERLY CONDUCT  \\\n",
       "0  0.005678  0.094827    0.000016  0.000018  0.037898            0.000933   \n",
       "1  0.001572  0.077418    0.000007  0.000025  0.001248            0.000456   \n",
       "2  0.002466  0.020342    0.000008  0.000002  0.149191            0.000328   \n",
       "3  0.001451  0.221824    0.000086  0.002140  0.013582            0.006302   \n",
       "4  0.001451  0.221824    0.000086  0.002140  0.013582            0.006302   \n",
       "\n",
       "   DRIVING UNDER THE INFLUENCE  DRUG/NARCOTIC  DRUNKENNESS  EMBEZZLEMENT  \\\n",
       "0                     0.001280       0.003085     0.000897      0.000271   \n",
       "1                     0.006496       0.010504     0.001181      0.000041   \n",
       "2                     0.000872       0.000519     0.000150      0.000137   \n",
       "3                     0.003781       0.050687     0.029813      0.000247   \n",
       "4                     0.003781       0.050687     0.029813      0.000247   \n",
       "\n",
       "      ...       SEX OFFENSES NON FORCIBLE  STOLEN PROPERTY   SUICIDE  \\\n",
       "0     ...                        0.000050         0.000248  0.000285   \n",
       "1     ...                        0.000015         0.000391  0.000022   \n",
       "2     ...                        0.000003         0.000105  0.000216   \n",
       "3     ...                        0.000204         0.008809  0.000697   \n",
       "4     ...                        0.000204         0.008809  0.000697   \n",
       "\n",
       "   SUSPICIOUS OCC          TREA  TRESPASS  VANDALISM  VEHICLE THEFT  WARRANTS  \\\n",
       "0        0.052792  8.631978e-10  0.002720   0.100595       0.187596  0.020468   \n",
       "1        0.033808  7.599497e-10  0.000374   0.046313       0.080658  0.046646   \n",
       "2        0.015266  4.376087e-10  0.001610   0.060009       0.208036  0.003083   \n",
       "3        0.042463  6.562384e-08  0.006675   0.049848       0.014601  0.075101   \n",
       "4        0.042463  6.562384e-08  0.006675   0.049848       0.014601  0.075101   \n",
       "\n",
       "   WEAPON LAWS  \n",
       "0     0.004731  \n",
       "1     0.006204  \n",
       "2     0.000701  \n",
       "3     0.044996  \n",
       "4     0.044996  \n",
       "\n",
       "[5 rows x 39 columns]"
      ]
     },
     "execution_count": 50,
     "metadata": {},
     "output_type": "execute_result"
    }
   ],
   "source": [
    "df_means.head()"
   ]
  },
  {
   "cell_type": "code",
   "execution_count": null,
   "metadata": {
    "collapsed": true
   },
   "outputs": [],
   "source": []
  }
 ],
 "metadata": {
  "kernelspec": {
   "display_name": "Python 2",
   "language": "python",
   "name": "python2"
  },
  "language_info": {
   "codemirror_mode": {
    "name": "ipython",
    "version": 2
   },
   "file_extension": ".py",
   "mimetype": "text/x-python",
   "name": "python",
   "nbconvert_exporter": "python",
   "pygments_lexer": "ipython2",
   "version": "2.7.11"
  }
 },
 "nbformat": 4,
 "nbformat_minor": 0
}
