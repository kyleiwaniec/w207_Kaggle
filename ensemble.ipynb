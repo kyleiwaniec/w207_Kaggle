{
 "cells": [
  {
   "cell_type": "code",
   "execution_count": 61,
   "metadata": {
    "collapsed": true
   },
   "outputs": [],
   "source": [
    "import os\n",
    "import numpy as np\n",
    "import pandas as pd\n",
    "import time"
   ]
  },
  {
   "cell_type": "code",
   "execution_count": 5,
   "metadata": {
    "collapsed": true
   },
   "outputs": [],
   "source": [
    "\n",
    "data_path = \"submissions\"\n",
    "def get_dataframe(file_name=\"train.csv\"):\n",
    "    return pd.io.parsers.read_csv(os.path.join(data_path, file_name))"
   ]
  },
  {
   "cell_type": "code",
   "execution_count": 22,
   "metadata": {
    "collapsed": true
   },
   "outputs": [],
   "source": [
    "'''\n",
    "lr = pd.read_csv(os.path.join(data_path, 'method_LR_logodds200.csv'))\n",
    "rf = pd.read_csv(os.path.join(data_path, 'method_RF_logodds22.csv'))\n",
    "# terriby overfit:\n",
    "nn191 = pd.read_csv(os.path.join(data_path, 'method_NN_logodds_1.91.csv'))\n",
    "'''"
   ]
  },
  {
   "cell_type": "code",
   "execution_count": 33,
   "metadata": {
    "collapsed": false
   },
   "outputs": [],
   "source": [
    "nn212 = pd.read_csv(os.path.join(data_path, 'dont-overwrite/method_NN_logodds212.csv'))"
   ]
  },
  {
   "cell_type": "code",
   "execution_count": null,
   "metadata": {
    "collapsed": true
   },
   "outputs": [],
   "source": [
    "nn22 = pd.read_csv(os.path.join(data_path, 'method_NN_logodds22.csv'))"
   ]
  },
  {
   "cell_type": "code",
   "execution_count": 56,
   "metadata": {
    "collapsed": true
   },
   "outputs": [],
   "source": [
    "nn211 = pd.read_csv(os.path.join(data_path, 'method_NN_logodds211.csv'))"
   ]
  },
  {
   "cell_type": "code",
   "execution_count": 35,
   "metadata": {
    "collapsed": true
   },
   "outputs": [],
   "source": [
    "nn200 = pd.read_csv(os.path.join(data_path, 'method_NN_logodds200.csv'))"
   ]
  },
  {
   "cell_type": "code",
   "execution_count": null,
   "metadata": {
    "collapsed": true
   },
   "outputs": [],
   "source": [
    "nn_J = pd.read_csv(os.path.join(data_path, 'method_NN_logodds_jackson.csv'))"
   ]
  },
  {
   "cell_type": "code",
   "execution_count": null,
   "metadata": {
    "collapsed": true
   },
   "outputs": [],
   "source": [
    "nn_01 = pd.read_csv(os.path.join(data_path, 'NN_at2.1648137252_1461582746.89.csv'))\n",
    "nn_02 = pd.read_csv(os.path.join(data_path, 'NN_at_1461547785.24.csv'))\n",
    "nn_03 = pd.read_csv(os.path.join(data_path, 'NN_logodds1461555143.73.csv'))\n",
    "nn_04 = pd.read_csv(os.path.join(data_path, 'NN_logodds1461567184.49.csv'))"
   ]
  },
  {
   "cell_type": "code",
   "execution_count": 79,
   "metadata": {
    "collapsed": true
   },
   "outputs": [],
   "source": [
    "nn_05 = pd.read_csv(os.path.join(data_path, 'NN_2.15459565395_1461618528.57.csv'))"
   ]
  },
  {
   "cell_type": "markdown",
   "metadata": {
    "collapsed": true
   },
   "source": [
    "TODO: write a loop that gathers and concats the files"
   ]
  },
  {
   "cell_type": "code",
   "execution_count": 80,
   "metadata": {
    "collapsed": false
   },
   "outputs": [],
   "source": [
    "df_concat = pd.concat((nn212, nn22, nn200, nn211, nn_J))\n",
    "by_row_index = df_concat.groupby(df_concat.index)\n",
    "df_means = by_row_index.mean()"
   ]
  },
  {
   "cell_type": "code",
   "execution_count": 81,
   "metadata": {
    "collapsed": false
   },
   "outputs": [],
   "source": [
    "del df_means['Id']"
   ]
  },
  {
   "cell_type": "code",
   "execution_count": 82,
   "metadata": {
    "collapsed": false
   },
   "outputs": [],
   "source": [
    "df_means.to_csv(os.path.join(data_path,'ensemble_'+str(time.time())+'.csv'),index_label=\"Id\",na_rep=\"0\")"
   ]
  },
  {
   "cell_type": "code",
   "execution_count": 67,
   "metadata": {
    "collapsed": false
   },
   "outputs": [
    {
     "data": {
      "text/html": [
       "<div>\n",
       "<table border=\"1\" class=\"dataframe\">\n",
       "  <thead>\n",
       "    <tr style=\"text-align: right;\">\n",
       "      <th></th>\n",
       "      <th>ARSON</th>\n",
       "      <th>ASSAULT</th>\n",
       "      <th>BAD CHECKS</th>\n",
       "      <th>BRIBERY</th>\n",
       "      <th>BURGLARY</th>\n",
       "      <th>DISORDERLY CONDUCT</th>\n",
       "      <th>DRIVING UNDER THE INFLUENCE</th>\n",
       "      <th>DRUG/NARCOTIC</th>\n",
       "      <th>DRUNKENNESS</th>\n",
       "      <th>EMBEZZLEMENT</th>\n",
       "      <th>...</th>\n",
       "      <th>SEX OFFENSES NON FORCIBLE</th>\n",
       "      <th>STOLEN PROPERTY</th>\n",
       "      <th>SUICIDE</th>\n",
       "      <th>SUSPICIOUS OCC</th>\n",
       "      <th>TREA</th>\n",
       "      <th>TRESPASS</th>\n",
       "      <th>VANDALISM</th>\n",
       "      <th>VEHICLE THEFT</th>\n",
       "      <th>WARRANTS</th>\n",
       "      <th>WEAPON LAWS</th>\n",
       "    </tr>\n",
       "  </thead>\n",
       "  <tbody>\n",
       "    <tr>\n",
       "      <th>0</th>\n",
       "      <td>0.005749</td>\n",
       "      <td>0.092451</td>\n",
       "      <td>0.000037</td>\n",
       "      <td>0.000035</td>\n",
       "      <td>0.037122</td>\n",
       "      <td>0.000925</td>\n",
       "      <td>0.001316</td>\n",
       "      <td>0.003780</td>\n",
       "      <td>0.000805</td>\n",
       "      <td>0.000243</td>\n",
       "      <td>...</td>\n",
       "      <td>0.000058</td>\n",
       "      <td>0.000289</td>\n",
       "      <td>0.000254</td>\n",
       "      <td>0.067265</td>\n",
       "      <td>4.143566e-10</td>\n",
       "      <td>0.002797</td>\n",
       "      <td>0.102174</td>\n",
       "      <td>0.123879</td>\n",
       "      <td>0.023127</td>\n",
       "      <td>0.004255</td>\n",
       "    </tr>\n",
       "    <tr>\n",
       "      <th>1</th>\n",
       "      <td>0.001211</td>\n",
       "      <td>0.070263</td>\n",
       "      <td>0.000012</td>\n",
       "      <td>0.000029</td>\n",
       "      <td>0.001226</td>\n",
       "      <td>0.000376</td>\n",
       "      <td>0.004992</td>\n",
       "      <td>0.010492</td>\n",
       "      <td>0.001056</td>\n",
       "      <td>0.000044</td>\n",
       "      <td>...</td>\n",
       "      <td>0.000011</td>\n",
       "      <td>0.000535</td>\n",
       "      <td>0.000021</td>\n",
       "      <td>0.025367</td>\n",
       "      <td>3.378307e-10</td>\n",
       "      <td>0.000380</td>\n",
       "      <td>0.037761</td>\n",
       "      <td>0.057824</td>\n",
       "      <td>0.056468</td>\n",
       "      <td>0.006912</td>\n",
       "    </tr>\n",
       "    <tr>\n",
       "      <th>2</th>\n",
       "      <td>0.001689</td>\n",
       "      <td>0.016122</td>\n",
       "      <td>0.000017</td>\n",
       "      <td>0.000002</td>\n",
       "      <td>0.189502</td>\n",
       "      <td>0.000360</td>\n",
       "      <td>0.000801</td>\n",
       "      <td>0.000964</td>\n",
       "      <td>0.000113</td>\n",
       "      <td>0.000121</td>\n",
       "      <td>...</td>\n",
       "      <td>0.000006</td>\n",
       "      <td>0.000179</td>\n",
       "      <td>0.000239</td>\n",
       "      <td>0.012427</td>\n",
       "      <td>2.047326e-10</td>\n",
       "      <td>0.001511</td>\n",
       "      <td>0.054518</td>\n",
       "      <td>0.164458</td>\n",
       "      <td>0.003436</td>\n",
       "      <td>0.000741</td>\n",
       "    </tr>\n",
       "    <tr>\n",
       "      <th>3</th>\n",
       "      <td>0.001006</td>\n",
       "      <td>0.195551</td>\n",
       "      <td>0.000060</td>\n",
       "      <td>0.001508</td>\n",
       "      <td>0.013335</td>\n",
       "      <td>0.008327</td>\n",
       "      <td>0.003775</td>\n",
       "      <td>0.056819</td>\n",
       "      <td>0.036754</td>\n",
       "      <td>0.000254</td>\n",
       "      <td>...</td>\n",
       "      <td>0.000121</td>\n",
       "      <td>0.009741</td>\n",
       "      <td>0.000380</td>\n",
       "      <td>0.037196</td>\n",
       "      <td>2.965875e-08</td>\n",
       "      <td>0.005891</td>\n",
       "      <td>0.042618</td>\n",
       "      <td>0.009687</td>\n",
       "      <td>0.070650</td>\n",
       "      <td>0.040170</td>\n",
       "    </tr>\n",
       "    <tr>\n",
       "      <th>4</th>\n",
       "      <td>0.001006</td>\n",
       "      <td>0.195551</td>\n",
       "      <td>0.000060</td>\n",
       "      <td>0.001508</td>\n",
       "      <td>0.013335</td>\n",
       "      <td>0.008327</td>\n",
       "      <td>0.003775</td>\n",
       "      <td>0.056819</td>\n",
       "      <td>0.036754</td>\n",
       "      <td>0.000254</td>\n",
       "      <td>...</td>\n",
       "      <td>0.000121</td>\n",
       "      <td>0.009741</td>\n",
       "      <td>0.000380</td>\n",
       "      <td>0.037196</td>\n",
       "      <td>2.965875e-08</td>\n",
       "      <td>0.005891</td>\n",
       "      <td>0.042618</td>\n",
       "      <td>0.009687</td>\n",
       "      <td>0.070650</td>\n",
       "      <td>0.040170</td>\n",
       "    </tr>\n",
       "  </tbody>\n",
       "</table>\n",
       "<p>5 rows × 39 columns</p>\n",
       "</div>"
      ],
      "text/plain": [
       "      ARSON   ASSAULT  BAD CHECKS   BRIBERY  BURGLARY  DISORDERLY CONDUCT  \\\n",
       "0  0.005749  0.092451    0.000037  0.000035  0.037122            0.000925   \n",
       "1  0.001211  0.070263    0.000012  0.000029  0.001226            0.000376   \n",
       "2  0.001689  0.016122    0.000017  0.000002  0.189502            0.000360   \n",
       "3  0.001006  0.195551    0.000060  0.001508  0.013335            0.008327   \n",
       "4  0.001006  0.195551    0.000060  0.001508  0.013335            0.008327   \n",
       "\n",
       "   DRIVING UNDER THE INFLUENCE  DRUG/NARCOTIC  DRUNKENNESS  EMBEZZLEMENT  \\\n",
       "0                     0.001316       0.003780     0.000805      0.000243   \n",
       "1                     0.004992       0.010492     0.001056      0.000044   \n",
       "2                     0.000801       0.000964     0.000113      0.000121   \n",
       "3                     0.003775       0.056819     0.036754      0.000254   \n",
       "4                     0.003775       0.056819     0.036754      0.000254   \n",
       "\n",
       "      ...       SEX OFFENSES NON FORCIBLE  STOLEN PROPERTY   SUICIDE  \\\n",
       "0     ...                        0.000058         0.000289  0.000254   \n",
       "1     ...                        0.000011         0.000535  0.000021   \n",
       "2     ...                        0.000006         0.000179  0.000239   \n",
       "3     ...                        0.000121         0.009741  0.000380   \n",
       "4     ...                        0.000121         0.009741  0.000380   \n",
       "\n",
       "   SUSPICIOUS OCC          TREA  TRESPASS  VANDALISM  VEHICLE THEFT  WARRANTS  \\\n",
       "0        0.067265  4.143566e-10  0.002797   0.102174       0.123879  0.023127   \n",
       "1        0.025367  3.378307e-10  0.000380   0.037761       0.057824  0.056468   \n",
       "2        0.012427  2.047326e-10  0.001511   0.054518       0.164458  0.003436   \n",
       "3        0.037196  2.965875e-08  0.005891   0.042618       0.009687  0.070650   \n",
       "4        0.037196  2.965875e-08  0.005891   0.042618       0.009687  0.070650   \n",
       "\n",
       "   WEAPON LAWS  \n",
       "0     0.004255  \n",
       "1     0.006912  \n",
       "2     0.000741  \n",
       "3     0.040170  \n",
       "4     0.040170  \n",
       "\n",
       "[5 rows x 39 columns]"
      ]
     },
     "execution_count": 67,
     "metadata": {},
     "output_type": "execute_result"
    }
   ],
   "source": [
    "df_means.head()"
   ]
  },
  {
   "cell_type": "code",
   "execution_count": null,
   "metadata": {
    "collapsed": true
   },
   "outputs": [],
   "source": [
    "# merge data w labels for tableau\n",
    "all_feat = pd.read_csv(os.path.join('data', 'features_all.csv'))\n",
    "\n",
    "all_labels = pd.read_csv(os.path.join('data', 'labels_all.csv'),squeeze=True)\n",
    "all_feat['Category'] = all_labels\n",
    "all_feat.head()\n",
    "\n",
    "del all_feat['Id']\n",
    "all_feat.to_csv(os.path.join('data','engineered_with_cats.csv'),index=False)"
   ]
  },
  {
   "cell_type": "code",
   "execution_count": null,
   "metadata": {
    "collapsed": true
   },
   "outputs": [],
   "source": []
  }
 ],
 "metadata": {
  "kernelspec": {
   "display_name": "Python 2",
   "language": "python",
   "name": "python2"
  },
  "language_info": {
   "codemirror_mode": {
    "name": "ipython",
    "version": 2
   },
   "file_extension": ".py",
   "mimetype": "text/x-python",
   "name": "python",
   "nbconvert_exporter": "python",
   "pygments_lexer": "ipython2",
   "version": "2.7.11"
  }
 },
 "nbformat": 4,
 "nbformat_minor": 0
}
