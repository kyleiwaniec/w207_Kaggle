{
 "cells": [
  {
   "cell_type": "markdown",
   "metadata": {},
   "source": [
    "# San Francisco Crime prediction \n",
    "# Based on 2 layer neural net and count featurizer"
   ]
  },
  {
   "cell_type": "code",
   "execution_count": 63,
   "metadata": {
    "collapsed": false
   },
   "outputs": [],
   "source": [
    "import pandas as pd\n",
    "import numpy as np\n",
    "from datetime import datetime\n",
    "import re\n",
    "from sklearn.cross_validation import train_test_split\n",
    "from sklearn.grid_search import GridSearchCV\n",
    "import matplotlib.pylab as plt\n",
    "from sklearn.feature_extraction import DictVectorizer as DV\n",
    "from sklearn.linear_model import LogisticRegression\n",
    "\n",
    "from sklearn.tree import DecisionTreeClassifier\n",
    "from sklearn import preprocessing\n",
    "from sklearn.metrics import log_loss\n",
    "from sklearn.metrics import make_scorer\n",
    "from sklearn.cross_validation import StratifiedShuffleSplit\n",
    "from matplotlib.colors import LogNorm\n",
    "from sklearn.decomposition import PCA\n",
    "from keras.layers.advanced_activations import PReLU\n",
    "from keras.layers.core import Dense, Dropout, Activation\n",
    "from keras.layers.normalization import BatchNormalization\n",
    "from keras.models import Sequential\n",
    "from keras.utils import np_utils\n",
    "from copy import deepcopy\n",
    "from sklearn.base import TransformerMixin\n",
    "from sklearn.pipeline import Pipeline,FeatureUnion\n",
    "%matplotlib inline  "
   ]
  },
  {
   "cell_type": "markdown",
   "metadata": {},
   "source": [
    "Import data"
   ]
  },
  {
   "cell_type": "code",
   "execution_count": 64,
   "metadata": {
    "collapsed": false
   },
   "outputs": [],
   "source": [
    "trainDF=pd.read_csv(\"data/train.csv\")\n",
    "trainDF = trainDF.sample(150000)"
   ]
  },
  {
   "cell_type": "markdown",
   "metadata": {},
   "source": [
    "Clean up wrong X and Y values (very few of them)"
   ]
  },
  {
   "cell_type": "code",
   "execution_count": 65,
   "metadata": {
    "collapsed": false
   },
   "outputs": [
    {
     "data": {
      "image/png": "[encoded data removed]",
      "text/plain": [
       "<matplotlib.figure.Figure at 0x7f5634bf0050>"
      ]
     },
     "metadata": {},
     "output_type": "display_data"
    }
   ],
   "source": [
    "xy_scaler=preprocessing.StandardScaler()\n",
    "xy_scaler.fit(trainDF[[\"X\",\"Y\"]])\n",
    "trainDF[[\"X\",\"Y\"]]=xy_scaler.transform(trainDF[[\"X\",\"Y\"]])\n",
    "trainDF=trainDF[abs(trainDF[\"Y\"])<100]\n",
    "trainDF.index=range(len(trainDF))\n",
    "plt.plot(trainDF[\"X\"],trainDF[\"Y\"],'.')\n",
    "plt.show()"
   ]
  },
  {
   "cell_type": "code",
   "execution_count": 66,
   "metadata": {
    "collapsed": false
   },
   "outputs": [],
   "source": [
    "# Split train data into train and dev 80:20, and separate into X,Y\n",
    "# train_data = df\n",
    "# shuffle the data:\n",
    "trainDF = trainDF.reindex(np.random.permutation(trainDF.index))\n",
    "\n",
    "# take 80% from the top:\n",
    "upper = np.floor(len(trainDF)*.8).astype(int)\n",
    "train_data = trainDF.head(n=upper)\n",
    "train_labels = train_data['Category']\n",
    "\n",
    "# take 20% from the bottom\n",
    "lower = np.ceil(len(trainDF)*.2).astype(int)\n",
    "dev_data = trainDF.tail(n=lower)\n",
    "dev_labels = dev_data['Category']"
   ]
  },
  {
   "cell_type": "markdown",
   "metadata": {},
   "source": [
    "Make plots for each crime label"
   ]
  },
  {
   "cell_type": "markdown",
   "metadata": {},
   "source": [
    "# Now proceed as before"
   ]
  },
  {
   "cell_type": "code",
   "execution_count": 67,
   "metadata": {
    "collapsed": false
   },
   "outputs": [],
   "source": [
    "def parse_time(x):\n",
    "    DD=datetime.strptime(x,\"%Y-%m-%d %H:%M:%S\")\n",
    "    time=DD.hour#*60+DD.minute\n",
    "    day=DD.day\n",
    "    month=DD.month\n",
    "    year=DD.year\n",
    "    return time,day,month,year\n",
    "\n",
    "def get_season(x):\n",
    "    summer=0\n",
    "    fall=0\n",
    "    winter=0\n",
    "    spring=0\n",
    "    if (x in [5, 6, 7]):\n",
    "        summer=1\n",
    "    if (x in [8, 9, 10]):\n",
    "        fall=1\n",
    "    if (x in [11, 0, 1]):\n",
    "        winter=1\n",
    "    if (x in [2, 3, 4]):\n",
    "        spring=1\n",
    "    return summer, fall, winter, spring"
   ]
  },
  {
   "cell_type": "code",
   "execution_count": 68,
   "metadata": {
    "collapsed": false
   },
   "outputs": [],
   "source": [
    "class ScalerTransform(TransformerMixin):\n",
    "    \n",
    "    def __init__(self,cols=[],include=True):\n",
    "        self.cols = cols\n",
    "        self.include = include\n",
    "\n",
    "    def transform(self, X,y=None, **transform_params):\n",
    "        print(\"Scaler\")\n",
    "        if self.include:\n",
    "            x_num_train = X[self.cols]\n",
    "        else:\n",
    "            x_num_train = X.drop( self.cols, axis = 1 )\n",
    "        return self.scaler.transform(x_num_train)\n",
    "      \n",
    "    def fit(self, X, y=None, **fit_params):\n",
    "        if self.include:\n",
    "            x_num_train = X[self.cols]\n",
    "        else:\n",
    "            x_num_train = X.drop( self.cols, axis = 1 )      \n",
    "        self.scaler = preprocessing.StandardScaler().fit(x_num_train)\n",
    "        return self\n",
    "\n",
    "\n",
    "class DatesTransformer(TransformerMixin):\n",
    "\n",
    "    def transform(self, X, **transform_params):\n",
    "        if('Dates' in X):\n",
    "            print(\"Dates\")\n",
    "\n",
    "            DD =X['Dates'].apply(lambda x: datetime.strptime(x,\"%Y-%m-%d %H:%M:%S\"))\n",
    "            time,day,month,year  =  DD.dt.hour, DD.dt.day,DD.dt.month,DD.dt.year  \n",
    "            return np.array([time,day,month,year]).T\n",
    "        return \n",
    "        \n",
    "\n",
    "    def fit(self, X, y=None, **fit_params):\n",
    "        return self\n",
    "\n",
    "class SeasonsTransformer(TransformerMixin):\n",
    "    def transform(self, X, **transform_params):\n",
    "        print(\"Seasons\")\n",
    "\n",
    "        def get_season(x):\n",
    "            summer=0\n",
    "            fall=0\n",
    "            winter=0\n",
    "            spring=0\n",
    "            if (x in [5, 6, 7]):\n",
    "                summer=1\n",
    "            if (x in [8, 9, 10]):\n",
    "                fall=1\n",
    "            if (x in [11, 0, 1]):\n",
    "                winter=1\n",
    "            if (x in [2, 3, 4]):\n",
    "                spring=1\n",
    "            return summer, fall, winter, spring\n",
    "        \n",
    "        if('Dates' in X):\n",
    "            DD =X['Dates'].apply(lambda x: datetime.strptime(x,\"%Y-%m-%d %H:%M:%S\"))\n",
    "            awake=DD.dt.hour.apply(lambda x: 1 if (x==0 or (x>=8 and x<=23)) else 0)\n",
    "            summer, fall, winter, spring=zip(*DD.dt.month.apply(get_season))\n",
    "            return  np.array([awake,summer,fall,winter,spring]).T        \n",
    "\n",
    "    def fit(self, X, y=None, **fit_params):\n",
    "        return self\n",
    "    \n",
    "class AddIsIntersectionTransformer(TransformerMixin):\n",
    "\n",
    "    def transform(self, X, **transform_params):\n",
    "        print(\"Intersection\")\n",
    "\n",
    "        if('Address' in X):\n",
    "            return (X[\"Address\"].apply(lambda x: 1 if \"/\" in x else 0))[:,None]\n",
    "\n",
    "    def fit(self, X, y=None, **fit_params):\n",
    "        return self    \n",
    "    \n",
    "class StreetNamesTransformer(TransformerMixin):\n",
    "\n",
    "    def transform(self, X, **transform_params):\n",
    "        def getstreet(x):\n",
    "            if  \"/\" in x: \n",
    "                return re.findall(r'([A-Z0-9 ]+)\\s/\\s([A-Z0-9 ]+)', x)\n",
    "            else: \n",
    "                street = re.findall(r'\\d+.*?\\s+Block of ([A-Z0-9 ]+)', x)\n",
    "                return [street, street]\n",
    "        \n",
    "        print(\"StreetNames\")\n",
    "        X2 = X.copy()\n",
    "        streets = X[\"Address\"].apply(getstreet)\n",
    "        X2['street1'] = streets[0]\n",
    "        X2['street2'] = streets[1]\n",
    "\n",
    "        return X2\n",
    "\n",
    "    def fit(self, X, y=None, **fit_params):\n",
    "        return self    \n",
    "    \n",
    "class LogOddsTransformer(TransformerMixin):\n",
    "    def __init__(self,togroup):\n",
    "        self.togroup = togroup\n",
    "\n",
    "        \n",
    "    def transform(self, X, **transform_params):\n",
    "        print \"LogOdds transform\"\n",
    "        col = X[','.join(self.togroup)] \n",
    "        address_features=col.apply(lambda x: self.logodds[x])\n",
    "        PA = col.apply(lambda x: self.logoddsPA[x])\n",
    "        return np.hstack((address_features,PA[:,np.newaxis]))\n",
    "\n",
    "\n",
    "    def fit(self, X, y=None, **fit_params):\n",
    "        print(\"LogOdds\")\n",
    "        categories=sorted(X[\"Category\"].unique())\n",
    "        X2 = X.assign(Category=y.astype('object'))\n",
    "        C_counts=X2.groupby([\"Category\"]).size()\n",
    "        A_C_counts=X2.groupby(self.togroup +[\"Category\"]).size()\n",
    "        A_counts=X2.groupby(self.togroup).size()\n",
    "        addresses=A_counts.keys()\n",
    "        logodds={}\n",
    "        logoddsPA={}\n",
    "        MIN_CAT_COUNTS=2\n",
    "        default_logodds=np.log(C_counts/len(X2))-np.log(1.0-C_counts/float(len(X2)))\n",
    "        for addr in addresses:\n",
    "            PA=A_counts[addr]/float(len(X2))\n",
    "            logoddsPA[addr]=np.log(PA)-np.log(1.-PA)\n",
    "            logodds[addr]=deepcopy(default_logodds)\n",
    "            for cat in A_C_counts[addr].keys():\n",
    "                if (A_C_counts[addr][cat]>MIN_CAT_COUNTS) and A_C_counts[addr][cat]<A_counts[addr]:\n",
    "                    PA=A_C_counts[addr][cat]/float(A_counts[addr])\n",
    "                    logodds[addr][categories.index(cat)]=np.log(PA)-np.log(1.0-PA)\n",
    "            logodds[addr]=pd.Series(logodds[addr])\n",
    "            logodds[addr].index=range(len(categories))\n",
    "        self.logodds=logodds\n",
    "        self.logoddsPA=logoddsPA\n",
    "        return self       \n",
    "    \n",
    "class MarkDuplicatesTransformer(TransformerMixin):\n",
    "    def __init__(self,cols,include=True):\n",
    "        self.cols = cols\n",
    "        self.include = include\n",
    "\n",
    "    def transform(self, X, **transform_params):  \n",
    "        print(\"Duplicates\")\n",
    "        if self.include:\n",
    "            X2 = X[self.cols]\n",
    "        else:\n",
    "            X2 = X.drop( self.cols, axis = 1 ,errors='ignore')\n",
    "        return (pd.Series(X2.duplicated()|X2.duplicated(keep=\"last\")).apply(int))[:,None]\n",
    "\n",
    "    def fit(self, X, y=None, **fit_params):\n",
    "        return self        \n",
    "\n",
    "\n",
    "\n",
    "    \n",
    "class FeatureVecotrizer(TransformerMixin):\n",
    "    def __init__(self,cols,include=True):\n",
    "        self.cols = cols\n",
    "        self.include = include\n",
    "\n",
    "    def transform(self, X,y=None, **transform_params):\n",
    "        print(\"Vectorizer\")\n",
    "        if self.include:\n",
    "            x_cat_train = X[self.cols]\n",
    "            x_num_train = X.drop( self.cols, axis = 1 )\n",
    "        else:\n",
    "            x_num_train = X[self.cols]\n",
    "            x_cat_train = X.drop( self.cols, axis = 1 )\n",
    "        \n",
    "        x_cat_train.fillna( 'NA', inplace = True )\n",
    "        vec_x_cat_train  =pd.get_dummies(x_cat_train)\n",
    "        return vec_x_cat_train\n",
    "\n",
    "    def fit(self, X,y=None, **fit_params):\n",
    "        x_cat_train = X[self.cols]\n",
    "        x_cat_train.fillna( 'NA', inplace = True )\n",
    "        x_cat_train = x_cat_train.T.to_dict().values()\n",
    "        return  self\n",
    "    \n"
   ]
  },
  {
   "cell_type": "code",
   "execution_count": 69,
   "metadata": {
    "collapsed": false
   },
   "outputs": [],
   "source": [
    "class PapaDocNeuralNetworkModel(Sequential):\n",
    "    \n",
    "    def __init__(self,hn=32,dp=0.5,layers=1,epochs=1,batches=64,verbose=0,*args,**kwargs):\n",
    "        self.hn = hn\n",
    "        self.dp = dp\n",
    "        self.Nlayers = layers\n",
    "        self.epochs=epochs\n",
    "        self.batches = batches\n",
    "        self.verbose = verbose\n",
    "        super(PapaDocNeuralNetworkModel,self).__init__(*args,**kwargs)\n",
    "    \n",
    "    def fit(self,X_train,y_train,X_test=None,y_test=None,*args,**kwargs):\n",
    "        y_train=y_train.astype('category')\n",
    "        input_dim=X_train.shape[1]\n",
    "        output_dim=len(y_train.unique())\n",
    "        Y_train=np_utils.to_categorical(y_train.cat.rename_categories(range(len(y_train.unique()))))\n",
    "        self.add(Dense(input_dim=input_dim, output_dim=self.hn, init='glorot_uniform'))\n",
    "        self.add(PReLU(input_shape=(self.hn,)))\n",
    "        self.add(Dropout(self.dp))\n",
    "        for i in range(self.Nlayers):\n",
    "            self.add(Dense(input_dim=self.hn, output_dim=self.hn, init='glorot_uniform'))\n",
    "            self.add(PReLU(input_shape=(self.hn,)))\n",
    "            self.add(BatchNormalization())\n",
    "            self.add(Dropout(self.dp))\n",
    "\n",
    "        self.add(Dense(input_dim=self.hn, output_dim=output_dim, init='glorot_uniform'))\n",
    "        self.add(Activation('softmax'))\n",
    "        self.compile(loss='categorical_crossentropy', optimizer='adam')\n",
    "        if X_test is not None:\n",
    "            X_test=X_test.as_matrix()\n",
    "            y_test=y_test.astype('category')\n",
    "            Y_test=np_utils.to_categorical(y_test.cat.rename_categories(range(len(y_test.unique()))))\n",
    "            super(PapaDocNeuralNetworkModel,self).fit(X_train, Y_train, nb_epoch=self.epochs, \\\n",
    "                            batch_size=self.batches,verbose=self.verbose,\\\n",
    "                              validation_data=(X_test,Y_test),*args,**kwargs)\n",
    "        else:\n",
    "            super(PapaDocNeuralNetworkModel,self).fit(X_train, Y_train, nb_epoch=self.epochs, \\\n",
    "                                                      batch_size=self.batches,verbose=self.verbose,*args,**kwargs)\n",
    "        return self\n"
   ]
  },
  {
   "cell_type": "code",
   "execution_count": 70,
   "metadata": {
    "collapsed": true
   },
   "outputs": [],
   "source": [
    "N_EPOCHS=20\n",
    "N_HN=128\n",
    "N_LAYERS=1\n",
    "DP=0.5"
   ]
  },
  {
   "cell_type": "code",
   "execution_count": null,
   "metadata": {
    "collapsed": false
   },
   "outputs": [
    {
     "name": "stdout",
     "output_type": "stream",
     "text": [
      "Scaler\n",
      "Dates\n",
      "Intersection\n"
     ]
    },
    {
     "name": "stderr",
     "output_type": "stream",
     "text": [
      "/opt/anaconda2/lib/python2.7/site-packages/pandas/core/frame.py:2756: SettingWithCopyWarning: \n",
      "A value is trying to be set on a copy of a slice from a DataFrame\n",
      "\n",
      "See the caveats in the documentation: http://pandas.pydata.org/pandas-docs/stable/indexing.html#indexing-view-versus-copy\n",
      "  downcast=downcast, **kwargs)\n"
     ]
    },
    {
     "name": "stdout",
     "output_type": "stream",
     "text": [
      "LogOdds\n",
      "['Dates', 'Category', 'Descript', 'DayOfWeek', 'PdDistrict', 'Resolution', 'Address', 'X', 'Y']\n",
      "Duplicates\n",
      "Seasons\n"
     ]
    }
   ],
   "source": [
    "#Kyles LR Model\n",
    "\n",
    "f = FeatureUnion([\n",
    "                    (\"XY\",ScalerTransform([\"X\",\"Y\"])), \\\n",
    "                    (\"Vectorizer\",FeatureVecotrizer(['PdDistrict','DayOfWeek'])),\\\n",
    "                    ],n_jobs=3)\n",
    "p = Pipeline(steps=[(\"FeatureEngineering\",f),\\\n",
    "                    (\"Model\",LogisticRegression(C=.01))\n",
    "])\n",
    "\n",
    "#Papadocs Neural Model\n",
    "f = FeatureUnion([\n",
    "                    (\"XY\",ScalerTransform([\"X\",\"Y\"])), \\\n",
    "                    (\"DateToTime\",DatesTransformer()), \\\n",
    "                    (\"Intersection\",AddIsIntersectionTransformer()),\\\n",
    "                    (\"Vectorizer\",FeatureVecotrizer(['PdDistrict','DayOfWeek'])),\\\n",
    "                    #(\"LogsOdds\",Pipeline([\\\n",
    "                               # (\"Street\",StreetNamesTransformer()),\\\n",
    "                                #(\"LogOdds\",LogOddsTransformer([\"PdDistrict\",\"street1\"]))\\\n",
    "                    #])),\\\n",
    "                    (\"LogOdds\",LogOddsTransformer([\"Address\"])),\\\n",
    "\n",
    "                    (\"MarkDuplicates\",MarkDuplicatesTransformer([\"PdDistrict\",\"DayOfWeek\",\"Dates\",\"Address\"])),\\\n",
    "                    (\"Seasons\",SeasonsTransformer())\n",
    "                    ],n_jobs=3)\n",
    "p = Pipeline(steps=[(\"FeatureEngineering\",f),\\\n",
    "                    (\"ScaleEverything\",preprocessing.StandardScaler()),\\\n",
    "                    (\"Model\",PapaDocNeuralNetworkModel(hn=N_HN,layers=N_LAYERS,epochs=N_EPOCHS,verbose=2,dp=DP))\n",
    "])\n",
    "\n",
    "\n",
    "model = p.fit(train_data,train_labels.astype('category'))"
   ]
  },
  {
   "cell_type": "code",
   "execution_count": null,
   "metadata": {
    "collapsed": false
   },
   "outputs": [],
   "source": [
    "print \"train\", log_loss(train_labels.astype('category'), model.predict_proba(train_data))\n",
    "print \"test\", log_loss(dev_labels.astype('category'), model.predict_proba(dev_test))"
   ]
  },
  {
   "cell_type": "code",
   "execution_count": null,
   "metadata": {
    "collapsed": true
   },
   "outputs": [],
   "source": [
    "#Begin Papadocs Code"
   ]
  },
  {
   "cell_type": "code",
   "execution_count": null,
   "metadata": {
    "collapsed": false
   },
   "outputs": [],
   "source": [
    "def parse_data(df,logodds,logoddsPA):\n",
    "    feature_list=df.columns.tolist()\n",
    "    if \"Descript\" in feature_list:\n",
    "        feature_list.remove(\"Descript\")\n",
    "    if \"Resolution\" in feature_list:\n",
    "        feature_list.remove(\"Resolution\")\n",
    "    if \"Category\" in feature_list:\n",
    "        feature_list.remove(\"Category\")\n",
    "    if \"Id\" in feature_list:\n",
    "        feature_list.remove(\"Id\")\n",
    "    cleanData=df[feature_list]\n",
    "    cleanData.index=range(len(df))\n",
    "    print \"Creating address features\"\n",
    "    address_features=cleanData[\"Address\"].apply(lambda x: logodds[x])\n",
    "\n",
    "    \n",
    "    address_features.columns=[\"logodds\"+str(x) for x in range(len(address_features.columns))]\n",
    "    address_features[\"logoddsPA\"]=cleanData[\"Address\"].apply(lambda x: logoddsPA[x])\n",
    "\n",
    "    print \"Parsing dates\"\n",
    "    cleanData[\"Time\"], cleanData[\"Day\"], cleanData[\"Month\"], cleanData[\"Year\"]=zip(*cleanData[\"Dates\"].apply(parse_time))\n",
    "#     dummy_ranks_DAY = pd.get_dummies(cleanData['DayOfWeek'], prefix='DAY')\n",
    "    days = ['Monday', 'Tuesday', 'Wednesday', 'Thursday', 'Friday', 'Saturday', 'Sunday']\n",
    "#     cleanData[\"DayOfWeek\"]=cleanData[\"DayOfWeek\"].apply(lambda x: days.index(x)/float(len(days)))\n",
    "    print \"Creating one-hot variables\"\n",
    "    dummy_ranks_PD = pd.get_dummies(cleanData['PdDistrict'], prefix='PD')\n",
    "    dummy_ranks_DAY = pd.get_dummies(cleanData[\"DayOfWeek\"], prefix='DAY')\n",
    "    cleanData[\"IsInterection\"]=cleanData[\"Address\"].apply(lambda x: 1 if \"/\" in x else 0)\n",
    "    cleanData[\"logoddsPA\"]=cleanData[\"Address\"].apply(lambda x: logoddsPA[x])\n",
    "    \n",
    "    print \"droping processed columns\"\n",
    "    cleanData=cleanData.drop(\"PdDistrict\",axis=1)\n",
    "    cleanData=cleanData.drop(\"DayOfWeek\",axis=1)\n",
    "    cleanData=cleanData.drop(\"Address\",axis=1)\n",
    "    cleanData=cleanData.drop(\"Dates\",axis=1)\n",
    "    feature_list=cleanData.columns.tolist()\n",
    "    print \"joining one-hot features\"\n",
    "    features = cleanData[feature_list].join(dummy_ranks_PD.ix[:,:]).join(dummy_ranks_DAY.ix[:,:]).join(address_features.ix[:,:])\n",
    "    print \"creating new features\"\n",
    "    features[\"IsDup\"]=pd.Series(features.duplicated()|features.duplicated(keep=\"last\")).apply(int)\n",
    "    features[\"Awake\"]=features[\"Time\"].apply(lambda x: 1 if (x==0 or (x>=8 and x<=23)) else 0)\n",
    "    features[\"Summer\"], features[\"Fall\"], features[\"Winter\"], features[\"Spring\"]=zip(*features[\"Month\"].apply(get_season))\n",
    "    if \"Category\" in df.columns:\n",
    "        labels = df[\"Category\"].astype('category')\n",
    "#         label_names=labels.unique()\n",
    "#         labels=labels.cat.rename_categories(range(len(label_names)))\n",
    "    else:\n",
    "        labels=None\n",
    "    return features,labels"
   ]
  },
  {
   "cell_type": "markdown",
   "metadata": {},
   "source": [
    "This part is slower than it needs to be."
   ]
  },
  {
   "cell_type": "code",
   "execution_count": null,
   "metadata": {
    "collapsed": false
   },
   "outputs": [],
   "source": [
    "addresses=sorted(trainDF[\"Address\"].unique())\n",
    "categories=sorted(trainDF[\"Category\"].unique())\n",
    "C_counts=trainDF.groupby([\"Category\"]).size()\n",
    "A_C_counts=trainDF.groupby([\"Address\",\"Category\"]).size()\n",
    "A_counts=trainDF.groupby([\"Address\"]).size()\n",
    "logodds={}\n",
    "logoddsPA={}\n",
    "MIN_CAT_COUNTS=2\n",
    "default_logodds=np.log(C_counts/len(trainDF))-np.log(1.0-C_counts/float(len(trainDF)))\n",
    "for addr in addresses:\n",
    "    PA=A_counts[addr]/float(len(trainDF))\n",
    "    logoddsPA[addr]=np.log(PA)-np.log(1.-PA)\n",
    "    logodds[addr]=deepcopy(default_logodds)\n",
    "    for cat in A_C_counts[addr].keys():\n",
    "        if (A_C_counts[addr][cat]>MIN_CAT_COUNTS) and A_C_counts[addr][cat]<A_counts[addr]:\n",
    "            PA=A_C_counts[addr][cat]/float(A_counts[addr])\n",
    "            logodds[addr][categories.index(cat)]=np.log(PA)-np.log(1.0-PA)\n",
    "    logodds[addr]=pd.Series(logodds[addr])\n",
    "    logodds[addr].index=range(len(categories))"
   ]
  },
  {
   "cell_type": "code",
   "execution_count": null,
   "metadata": {
    "collapsed": false
   },
   "outputs": [],
   "source": [
    "\n",
    "features, labels=parse_data(trainDF,logodds,logoddsPA)"
   ]
  },
  {
   "cell_type": "code",
   "execution_count": null,
   "metadata": {
    "collapsed": false
   },
   "outputs": [],
   "source": [
    "print features.columns.tolist()\n",
    "print features.shape"
   ]
  },
  {
   "cell_type": "code",
   "execution_count": null,
   "metadata": {
    "collapsed": false
   },
   "outputs": [],
   "source": [
    "num_feature_list=[\"Time\",\"Day\",\"Month\",\"Year\",\"DayOfWeek\"]\n",
    "collist=features.columns.tolist()\n",
    "scaler = preprocessing.StandardScaler()\n",
    "scaler.fit(features)\n",
    "features[collist]=scaler.transform(features)\n"
   ]
  },
  {
   "cell_type": "code",
   "execution_count": null,
   "metadata": {
    "collapsed": false
   },
   "outputs": [],
   "source": [
    "#new_PCA=PCA(n_components=60)\n",
    "#new_PCA.fit(features)\n",
    "#plt.plot(new_PCA.explained_variance_ratio_)\n",
    "#plt.yscale('log')\n",
    "#plt.title(\"PCA explained ratio of features\")\n",
    "#print new_PCA.explained_variance_ratio_"
   ]
  },
  {
   "cell_type": "code",
   "execution_count": null,
   "metadata": {
    "collapsed": false
   },
   "outputs": [],
   "source": [
    "#plt.plot(new_PCA.explained_variance_ratio_.cumsum())\n",
    "#plt.title(\"cumsum of PCA explained ratio\")"
   ]
  },
  {
   "cell_type": "markdown",
   "metadata": {},
   "source": [
    "PCA is interesting, here to play with it more"
   ]
  },
  {
   "cell_type": "code",
   "execution_count": null,
   "metadata": {
    "collapsed": false
   },
   "outputs": [],
   "source": [
    "sss = StratifiedShuffleSplit(labels, train_size=0.5,random_state=0)\n",
    "for train_index, test_index in sss:\n",
    "    features_train,features_test=features.iloc[train_index],features.iloc[test_index]\n",
    "    labels_train,labels_test=labels[train_index],labels[test_index]\n",
    "    \n",
    "\n",
    "features_test.index=range(len(features_test))\n",
    "features_train.index=range(len(features_train))\n",
    "labels_train.index=range(len(labels_train))\n",
    "labels_test.index=range(len(labels_test))\n",
    "features.index=range(len(features))\n",
    "labels.index=range(len(labels))\n",
    "    \n"
   ]
  },
  {
   "cell_type": "code",
   "execution_count": null,
   "metadata": {
    "collapsed": false
   },
   "outputs": [],
   "source": [
    "def build_and_fit_model(X_train,y_train,X_test=None,y_test=None,hn=32,dp=0.5,layers=1,epochs=1,batches=64,verbose=0):\n",
    "    input_dim=X_train.shape[1]\n",
    "    output_dim=len(labels_train.unique())\n",
    "    Y_train=np_utils.to_categorical(y_train.cat.rename_categories(range(len(y_train.unique()))))\n",
    "    model = Sequential()\n",
    "    model.add(Dense(input_dim=input_dim, output_dim=hn, init='glorot_uniform'))\n",
    "    model.add(PReLU(input_shape=(hn,)))\n",
    "    model.add(Dropout(dp))\n",
    "\n",
    "    for i in range(layers):\n",
    "        model.add(Dense(input_dim=hn, output_dim=hn, init='glorot_uniform'))\n",
    "        model.add(PReLU(input_shape=(hn,)))\n",
    "        model.add(BatchNormalization())\n",
    "        model.add(Dropout(dp))\n",
    "\n",
    "    model.add(Dense(input_dim=hn, output_dim=output_dim, init='glorot_uniform'))\n",
    "    model.add(Activation('softmax'))\n",
    "    model.compile(loss='categorical_crossentropy', optimizer='adam')\n",
    "    \n",
    "    if X_test is not None:\n",
    "        Y_test=np_utils.to_categorical(y_test.cat.rename_categories(range(len(y_test.unique()))))\n",
    "        fitting=model.fit(X_train, Y_train, nb_epoch=epochs, batch_size=batches,verbose=verbose,validation_data=(X_test,Y_test))\n",
    "        test_score = log_loss(y_test, model.predict_proba(X_test,verbose=0))\n",
    "    else:\n",
    "        model.fit(X_train, Y_train, nb_epoch=epochs, batch_size=batches,verbose=verbose)\n",
    "        fitting=0\n",
    "        test_score = 0\n",
    "    return test_score, fitting, model"
   ]
  },
  {
   "cell_type": "code",
   "execution_count": null,
   "metadata": {
    "collapsed": false
   },
   "outputs": [],
   "source": [
    "len(features.columns)"
   ]
  },
  {
   "cell_type": "code",
   "execution_count": null,
   "metadata": {
    "collapsed": false,
    "scrolled": false
   },
   "outputs": [],
   "source": [
    "#score, fitting, model = build_and_fit_model(features_train.as_matrix(),labels_train,hn=N_HN,layers=N_LAYERS,epochs=N_EPOCHS,verbose=2,dp=DP)\n"
   ]
  },
  {
   "cell_type": "code",
   "execution_count": null,
   "metadata": {
    "collapsed": false
   },
   "outputs": [],
   "source": [
    "#print \"all\", log_loss(labels, model.predict_proba(features.as_matrix(),verbose=0))\n",
    "#print \"train\", log_loss(labels_train, model.predict_proba(features_train.as_matrix(),verbose=0))\n",
    "#print \"test\", log_loss(labels_test, model.predict_proba(features_test.as_matrix(),verbose=0))"
   ]
  },
  {
   "cell_type": "markdown",
   "metadata": {},
   "source": [
    "Now train the final model"
   ]
  },
  {
   "cell_type": "code",
   "execution_count": null,
   "metadata": {
    "collapsed": false
   },
   "outputs": [],
   "source": [
    "score, fitting, model = build_and_fit_model(features.as_matrix(),labels,hn=N_HN,layers=N_LAYERS,\n",
    "                                            epochs=N_EPOCHS,verbose=2,dp=DP)"
   ]
  },
  {
   "cell_type": "code",
   "execution_count": null,
   "metadata": {
    "collapsed": false
   },
   "outputs": [],
   "source": [
    "print \"all\", log_loss(labels, model.predict_proba(features.as_matrix(),verbose=0))\n",
    "print \"train\", log_loss(labels_train, model.predict_proba(features_train.as_matrix(),verbose=0))\n",
    "print \"test\", log_loss(labels_test, model.predict_proba(features_test.as_matrix(),verbose=0))"
   ]
  },
  {
   "cell_type": "code",
   "execution_count": null,
   "metadata": {
    "collapsed": false
   },
   "outputs": [],
   "source": [
    "testDF=pd.read_csv(\"data/test.csv\")\n",
    "testDF[[\"X\",\"Y\"]]=xy_scaler.transform(testDF[[\"X\",\"Y\"]])\n",
    "#set outliers to 0\n",
    "testDF[\"X\"]=testDF[\"X\"].apply(lambda x: 0 if abs(x)>5 else x)\n",
    "testDF[\"Y\"]=testDF[\"Y\"].apply(lambda y: 0 if abs(y)>5 else y)"
   ]
  },
  {
   "cell_type": "code",
   "execution_count": null,
   "metadata": {
    "collapsed": false
   },
   "outputs": [],
   "source": [
    "new_addresses=sorted(testDF[\"Address\"].unique())\n",
    "new_A_counts=testDF.groupby(\"Address\").size()\n",
    "only_new=set(new_addresses+addresses)-set(addresses)\n",
    "only_old=set(new_addresses+addresses)-set(new_addresses)\n",
    "in_both=set(new_addresses).intersection(addresses)\n",
    "for addr in only_new:\n",
    "    PA=new_A_counts[addr]/float(len(testDF)+len(trainDF))\n",
    "    logoddsPA[addr]=np.log(PA)-np.log(1.-PA)\n",
    "    logodds[addr]=deepcopy(default_logodds)\n",
    "    logodds[addr].index=range(len(categories))\n",
    "for addr in in_both:\n",
    "    PA=(A_counts[addr]+new_A_counts[addr])/float(len(testDF)+len(trainDF))\n",
    "    logoddsPA[addr]=np.log(PA)-np.log(1.-PA)"
   ]
  },
  {
   "cell_type": "code",
   "execution_count": null,
   "metadata": {
    "collapsed": false
   },
   "outputs": [],
   "source": [
    "features_sub, _=parse_data(testDF,logodds,logoddsPA)\n",
    "# scaler.fit(features_test)"
   ]
  },
  {
   "cell_type": "code",
   "execution_count": null,
   "metadata": {
    "collapsed": false
   },
   "outputs": [],
   "source": [
    "collist=features_sub.columns.tolist()"
   ]
  },
  {
   "cell_type": "code",
   "execution_count": null,
   "metadata": {
    "collapsed": false
   },
   "outputs": [],
   "source": [
    "features_sub[collist]=scaler.transform(features_sub[collist])"
   ]
  },
  {
   "cell_type": "code",
   "execution_count": null,
   "metadata": {
    "collapsed": false
   },
   "outputs": [],
   "source": [
    "predDF=pd.DataFrame(model.predict_proba(features_sub.as_matrix(),verbose=0),columns=sorted(labels.unique()))"
   ]
  },
  {
   "cell_type": "code",
   "execution_count": null,
   "metadata": {
    "collapsed": false
   },
   "outputs": [],
   "source": [
    "predDF.head()"
   ]
  },
  {
   "cell_type": "code",
   "execution_count": null,
   "metadata": {
    "collapsed": false
   },
   "outputs": [],
   "source": [
    "predDF.to_csv(\"crimeSF_NN_logodds.csv\",index_label=\"Id\",na_rep=\"0\")"
   ]
  },
  {
   "cell_type": "code",
   "execution_count": null,
   "metadata": {
    "collapsed": true
   },
   "outputs": [],
   "source": []
  }
 ],
 "metadata": {
  "kernelspec": {
   "display_name": "Python 2",
   "language": "python",
   "name": "python2"
  },
  "language_info": {
   "codemirror_mode": {
    "name": "ipython",
    "version": 2
   },
   "file_extension": ".py",
   "mimetype": "text/x-python",
   "name": "python",
   "nbconvert_exporter": "python",
   "pygments_lexer": "ipython2",
   "version": "2.7.11"
  }
 },
 "nbformat": 4,
 "nbformat_minor": 0
}
