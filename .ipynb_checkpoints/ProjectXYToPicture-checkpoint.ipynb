{
 "cells": [
  {
   "cell_type": "code",
   "execution_count": 1,
   "metadata": {
    "collapsed": false
   },
   "outputs": [],
   "source": [
    "from scipy import misc\n",
    "import urllib2\n",
    "import matplotlib.image as mpimg\n",
    "import matplotlib.pyplot as plt\n",
    "\n",
    "from osgeo import gdal\n",
    "# General libraries.\n",
    "from __future__ import division\n",
    "from collections import Counter\n",
    "import csv\n",
    "import dateutil\n",
    "import os\n",
    "import pandas as pd\n",
    "import re\n",
    "import numpy as np\n",
    "\n",
    "# SK-learn libraries for preprocessing.\n",
    "from sklearn.preprocessing import OneHotEncoder # for integer values\n",
    "from sklearn.feature_extraction import DictVectorizer as DV\n",
    "\n",
    "# SK-learn libraries for learning.\n",
    "from sklearn.pipeline import Pipeline\n",
    "from sklearn.neighbors import KNeighborsClassifier\n",
    "from sklearn.linear_model import LogisticRegression\n",
    "from sklearn.naive_bayes import BernoulliNB\n",
    "from sklearn.naive_bayes import MultinomialNB\n",
    "from sklearn.grid_search import GridSearchCV\n",
    "from sklearn.ensemble import RandomForestClassifier\n",
    "from sklearn.base import TransformerMixin\n",
    "\n",
    "\n",
    "# SK-learn libraries for evaluation.\n",
    "from sklearn.metrics import confusion_matrix\n",
    "from sklearn import metrics\n",
    "from sklearn.metrics import classification_report"
   ]
  },
  {
   "cell_type": "code",
   "execution_count": 2,
   "metadata": {
    "collapsed": false
   },
   "outputs": [
    {
     "name": "stdout",
     "output_type": "stream",
     "text": [
      "(884262, 7)\n"
     ]
    }
   ],
   "source": [
    "data_path = \"data\"\n",
    "submissions_path = \"submissions\"\n",
    "if not data_path or not submissions_path:\n",
    "    raise Exception(\"Set the data and submission paths in competition_utilities.py!\")\n",
    "\n",
    "def parse_date_maybe_null(date):\n",
    "    if date:\n",
    "        return dateutil.parser.parse(date)\n",
    "    return None\n",
    "\n",
    "df_converters = {\"Dates\": dateutil.parser.parse}\n",
    "\n",
    "def get_reader(file_name=\"train.csv\"):\n",
    "    reader = csv.reader(open(os.path.join(data_path, file_name)))\n",
    "    header = reader.next()\n",
    "    return reader\n",
    "\n",
    "def get_header(file_name=\"train.csv\"):\n",
    "    reader = csv.reader(open(os.path.join(data_path, file_name)))\n",
    "    header = reader.next()\n",
    "    return header\n",
    "\n",
    "def get_dataframe(file_name=\"train.csv\"):\n",
    "    return pd.io.parsers.read_csv(os.path.join(data_path, file_name), converters = df_converters)\n",
    "\n",
    "    \n",
    "def write_submission(file_name, predictions):\n",
    "    writer = csv.writer(open(os.path.join(submissions_path, file_name), \"w\"), lineterminator=\"\\n\")\n",
    "    writer.writerows(predictions)  \n",
    "    \n",
    "dataframe = get_dataframe()\n",
    "df = dataframe.sample(n=1000)\n",
    "\n",
    "df = df.reindex(np.random.permutation(df.index))\n",
    "\n",
    "# take 80% from the top:\n",
    "upper = np.floor(len(df)*.8).astype(int)\n",
    "train_data = df.head(n=upper)\n",
    "train_labels = train_data['Category']\n",
    "del train_data['Category']\n",
    "del train_data['Descript']\n",
    "del train_data['Resolution']\n",
    "\n",
    "\n",
    "\n",
    "\n",
    "# take 20% from the bottom\n",
    "lower = np.ceil(len(df)*.2).astype(int)\n",
    "dev_data = df.tail(n=lower)\n",
    "dev_labels = dev_data['Category']\n",
    "del dev_data['Category']\n",
    "\n",
    "testdf = get_dataframe(\"test.csv\")\n",
    "test_data = testdf.reindex(np.random.permutation(testdf.index))\n",
    "print test_data.shape"
   ]
  },
  {
   "cell_type": "code",
   "execution_count": 3,
   "metadata": {
    "collapsed": true
   },
   "outputs": [],
   "source": [
    "class pictureandlatlontransforms:\n",
    "    def __init__(self, image, Xconst,Xcoeff,Yconst,Ycoeff):\n",
    "        self.image = f = mpimg.imread(urllib2.urlopen(image), format=image[-3:])\n",
    "        self.Xconst =Xconst\n",
    "        self.Xcoeff = Xcoeff\n",
    "        self.Yconst =Yconst\n",
    "        self.Ycoeff = Ycoeff\n",
    "        \n",
    "    def XYToLatLong(self,X,Y):\n",
    "        lat = round(self.Xconst + self.Xcoeff*X)\n",
    "        lon =round(self.Yconst + self.Ycoeff*Y)\n",
    "        return(lat,lon)\n",
    "\n",
    "    def LatLongToXY(self,lat,lon):\n",
    "        print(lat,lon)\n",
    "        X = round((lat - self.Xconst)/ self.Xcoeff)\n",
    "        Y = round((lon - self.Yconst) / self.Ycoeff)\n",
    "        return (X,Y)\n",
    "    \n",
    "    def getPixelXY(self,X,Y):\n",
    "        return self.image[X,Y]\n",
    "    \n",
    "    def getPixelLatLong(self,lat,lon):\n",
    "        return getPixelXY(*getXY(X,Y))\n",
    "    \n"
   ]
  },
  {
   "cell_type": "code",
   "execution_count": 14,
   "metadata": {
    "collapsed": false
   },
   "outputs": [],
   "source": [
    "from osgeo import gdal\n",
    "from osgeo import osr\n",
    "# The following method translates given latitude/longitude pairs into pixel locations on a given GEOTIF\n",
    "# INPUTS: geotifAddr - The file location of the GEOTIF\n",
    "#      latLonPairs - The decimal lat/lon pairings to be translated in the form [[lat1,lon1],[lat2,lon2]]\n",
    "# OUTPUT: The pixel translation of the lat/lon pairings in the form [[x1,y1],[x2,y2]]\n",
    "# NOTE:   This method does not take into account pixel size and assumes a high enough \n",
    "#  image resolution for pixel size to be insignificant\n",
    "def latLonToPixel(geotifAddr, latLonPairs):\n",
    "    # Load the image dataset\n",
    "    ds = gdal.Open(geotifAddr)\n",
    "    # Get a geo-transform of the dataset\n",
    "    gt = ds.GetGeoTransform()\n",
    "    print(gt)\n",
    "    # Create a spatial reference object for the dataset\n",
    "    srs = osr.SpatialReference()\n",
    "    srs.ImportFromWkt(ds.GetProjection())\n",
    "    # Set up the coordinate transformation object\n",
    "    srsLatLong = srs.CloneGeogCS()\n",
    "    ct = osr.CoordinateTransformation(srsLatLong,srs)\n",
    "    # Go through all the point pairs and translate them to latitude/longitude pairings\n",
    "    pixelPairs = []\n",
    "    for point in latLonPairs:\n",
    "        # Change the point locations into the GeoTransform space\n",
    "        (point[1],point[0],holder) = ct.TransformPoint(point[1],point[0])\n",
    "        print(point)\n",
    "        # Translate the x and y coordinates into pixel values\n",
    "        x = (point[1]-gt[0])/gt[1]\n",
    "        y = (point[0]-gt[3])/gt[5]\n",
    "        # Add the point to our return array\n",
    "        pixelPairs.append([int(x),int(y)])\n",
    "    return pixelPairs\n",
    "# The following method translates given pixel locations into latitude/longitude locations on a given GEOTIF\n",
    "# INPUTS: geotifAddr - The file location of the GEOTIF\n",
    "#      pixelPairs - The pixel pairings to be translated in the form [[x1,y1],[x2,y2]]\n",
    "# OUTPUT: The lat/lon translation of the pixel pairings in the form [[lat1,lon1],[lat2,lon2]]\n",
    "# NOTE:   This method does not take into account pixel size and assumes a high enough \n",
    "#\t  image resolution for pixel size to be insignificant\n",
    "def pixelToLatLon(geotifAddr,pixelPairs):\n",
    "    # Load the image dataset\n",
    "    ds = gdal.Open(geotifAddr)\n",
    "    # Get a geo-transform of the dataset\n",
    "    gt = ds.GetGeoTransform()\n",
    "    # Create a spatial reference object for the dataset\n",
    "    srs = osr.SpatialReference()\n",
    "    srs.ImportFromWkt(ds.GetProjection())\n",
    "    # Set up the coordinate transformation object\n",
    "    srsLatLong = srs.CloneGeogCS()\n",
    "    ct = osr.CoordinateTransformation(srs,srsLatLong)\n",
    "    # Go through all the point pairs and translate them to pixel pairings\n",
    "    latLonPairs = []\n",
    "    for point in pixelPairs:\n",
    "        # Translate the pixel pairs into untranslated points\n",
    "        ulon = point[0]*gt[1]+gt[0]\n",
    "        ulat = point[1]*gt[5]+gt[3]\n",
    "        # Transform the points to the space\n",
    "        (lon,lat,holder) = ct.TransformPoint(ulon,ulat)\n",
    "        # Add the point to our return array\n",
    "        latLonPairs.append([lat,lon])\n",
    "\n",
    "    return latLonPairs"
   ]
  },
  {
   "cell_type": "code",
   "execution_count": null,
   "metadata": {
    "collapsed": false
   },
   "outputs": [
    {
     "name": "stdout",
     "output_type": "stream",
     "text": [
      "(-122.51414755019515, 0.00015361020540501148, 0.0, 37.81240017688115, 0.0, -0.00015361020540501148)\n",
      "[-122.48502730850001, 37.7838524288]\n",
      "[[1043537, 1043533]]\n",
      "(-122.40367144217699, 37.77703244359461)"
     ]
    }
   ],
   "source": [
    "\n",
    "\n",
    "\n",
    "# create a file-like object from the url\n",
    "f = pictureandlatlontransforms('http://mapwarper.net/maps/export/13355?format=tif',\\\n",
    "                                    -122.51414755019515,0.00015361020540501148,37.812400176881148,-0.00015361020540501148)\n",
    "print(latLonToPixel(\"http://mapwarper.net/maps/export/13355?format=tif\", [[-122.4850273085,37.7838524288]]))\n",
    "# im = plt.imread(io.BytesIO(urllib2.urlopen(url).read()), format='jpeg')\n",
    "plt.figure(figsize=(20, 20))\n",
    "\n",
    "plt.imshow(f.image, cmap='Greys_r')\n",
    "small_data = [f.LatLongToXY(d['X'],d['Y']) for i,d in train_data[:1].iterrows()]\n",
    "plt.scatter(*zip(*small_data),c = \"c\", s = 50)\n",
    "plt.show()\n",
    "\n"
   ]
  },
  {
   "cell_type": "code",
   "execution_count": null,
   "metadata": {
    "collapsed": true
   },
   "outputs": [],
   "source": []
  }
 ],
 "metadata": {
  "kernelspec": {
   "display_name": "Python 2",
   "language": "python",
   "name": "python2"
  },
  "language_info": {
   "codemirror_mode": {
    "name": "ipython",
    "version": 2
   },
   "file_extension": ".py",
   "mimetype": "text/x-python",
   "name": "python",
   "nbconvert_exporter": "python",
   "pygments_lexer": "ipython2",
   "version": "2.7.11"
  }
 },
 "nbformat": 4,
 "nbformat_minor": 0
}
