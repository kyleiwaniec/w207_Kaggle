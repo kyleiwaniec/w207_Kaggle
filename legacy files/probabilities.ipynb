{
 "cells": [
  {
   "cell_type": "code",
   "execution_count": 2,
   "metadata": {
    "collapsed": true
   },
   "outputs": [],
   "source": [
    "import numpy as np"
   ]
  },
  {
   "cell_type": "code",
   "execution_count": 19,
   "metadata": {
    "collapsed": false
   },
   "outputs": [
    {
     "name": "stdout",
     "output_type": "stream",
     "text": [
      "[2 0 2 1]\n"
     ]
    }
   ],
   "source": [
    "probabilities = [[1,2,3,4],\n",
    "                 [3,2,6,5],\n",
    "                 [7,2,8,0]]\n",
    "\n",
    "indeces = np.argmax(np.array(probabilities), axis=0)\n",
    "print indeces\n",
    "#[np.array(probabilities[j]) for j in range(len(probabilities))]"
   ]
  },
  {
   "cell_type": "code",
   "execution_count": 18,
   "metadata": {
    "collapsed": false
   },
   "outputs": [
    {
     "name": "stdout",
     "output_type": "stream",
     "text": [
      "['three', 'one', 'three', 'two']\n"
     ]
    }
   ],
   "source": [
    "categories = ['one','two','three']\n",
    "\n",
    "predictions = map(lambda x: categories[x],indeces)\n",
    "\n",
    "print predictions"
   ]
  },
  {
   "cell_type": "code",
   "execution_count": null,
   "metadata": {
    "collapsed": true
   },
   "outputs": [],
   "source": []
  }
 ],
 "metadata": {
  "kernelspec": {
   "display_name": "Python 2",
   "language": "python",
   "name": "python2"
  },
  "language_info": {
   "codemirror_mode": {
    "name": "ipython",
    "version": 2
   },
   "file_extension": ".py",
   "mimetype": "text/x-python",
   "name": "python",
   "nbconvert_exporter": "python",
   "pygments_lexer": "ipython2",
   "version": "2.7.11"
  }
 },
 "nbformat": 4,
 "nbformat_minor": 0
}
