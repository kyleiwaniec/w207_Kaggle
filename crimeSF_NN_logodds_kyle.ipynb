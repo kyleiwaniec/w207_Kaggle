{
 "cells": [
  {
   "cell_type": "markdown",
   "metadata": {},
   "source": [
    "# San Francisco Crime prediction \n",
    "# Based on 2 layer neural net and count featurizer"
   ]
  },
  {
   "cell_type": "code",
   "execution_count": 93,
   "metadata": {
    "collapsed": false
   },
   "outputs": [],
   "source": [
    "import os\n",
    "import pandas as pd\n",
    "import numpy as np\n",
    "from datetime import datetime\n",
    "from sklearn.cross_validation import train_test_split\n",
    "from sklearn.grid_search import GridSearchCV\n",
    "import matplotlib.pylab as plt\n",
    "from sklearn.tree import DecisionTreeClassifier\n",
    "from sklearn.linear_model import LogisticRegression\n",
    "from sklearn import preprocessing\n",
    "from sklearn.metrics import log_loss\n",
    "from sklearn.metrics import make_scorer\n",
    "from sklearn.cross_validation import StratifiedShuffleSplit\n",
    "from matplotlib.colors import LogNorm\n",
    "from sklearn.decomposition import PCA\n",
    "from keras.layers.advanced_activations import PReLU, LeakyReLU, ParametricSoftplus\n",
    "from keras.layers.core import MaxoutDense, Dense, Dropout, Activation\n",
    "from keras.layers.normalization import BatchNormalization\n",
    "from keras.layers.noise import GaussianNoise\n",
    "from keras.regularizers import l2, activity_l2, l1, activity_l1\n",
    "from keras.models import Sequential\n",
    "from keras.utils import np_utils\n",
    "from copy import deepcopy\n",
    "import Geohash\n",
    "\n",
    "import accelerate\n",
    "import mkl\n",
    "\n",
    "%matplotlib inline "
   ]
  },
  {
   "cell_type": "markdown",
   "metadata": {},
   "source": [
    "Import data"
   ]
  },
  {
   "cell_type": "code",
   "execution_count": 2,
   "metadata": {
    "collapsed": true
   },
   "outputs": [],
   "source": [
    "data_path = \"data\"\n",
    "submissions_path = \"submissions\""
   ]
  },
  {
   "cell_type": "code",
   "execution_count": 3,
   "metadata": {
    "collapsed": true
   },
   "outputs": [],
   "source": [
    "trainDF=pd.read_csv(os.path.join(data_path, \"train.csv\"))"
   ]
  },
  {
   "cell_type": "code",
   "execution_count": 4,
   "metadata": {
    "collapsed": false
   },
   "outputs": [
    {
     "data": {
      "text/html": [
       "<div>\n",
       "<table border=\"1\" class=\"dataframe\">\n",
       "  <thead>\n",
       "    <tr style=\"text-align: right;\">\n",
       "      <th></th>\n",
       "      <th>Dates</th>\n",
       "      <th>Category</th>\n",
       "      <th>Descript</th>\n",
       "      <th>DayOfWeek</th>\n",
       "      <th>PdDistrict</th>\n",
       "      <th>Resolution</th>\n",
       "      <th>Address</th>\n",
       "      <th>X</th>\n",
       "      <th>Y</th>\n",
       "    </tr>\n",
       "  </thead>\n",
       "  <tbody>\n",
       "    <tr>\n",
       "      <th>0</th>\n",
       "      <td>2015-05-13 23:53:00</td>\n",
       "      <td>WARRANTS</td>\n",
       "      <td>WARRANT ARREST</td>\n",
       "      <td>Wednesday</td>\n",
       "      <td>NORTHERN</td>\n",
       "      <td>ARREST, BOOKED</td>\n",
       "      <td>OAK ST / LAGUNA ST</td>\n",
       "      <td>-122.425892</td>\n",
       "      <td>37.774599</td>\n",
       "    </tr>\n",
       "    <tr>\n",
       "      <th>1</th>\n",
       "      <td>2015-05-13 23:53:00</td>\n",
       "      <td>OTHER OFFENSES</td>\n",
       "      <td>TRAFFIC VIOLATION ARREST</td>\n",
       "      <td>Wednesday</td>\n",
       "      <td>NORTHERN</td>\n",
       "      <td>ARREST, BOOKED</td>\n",
       "      <td>OAK ST / LAGUNA ST</td>\n",
       "      <td>-122.425892</td>\n",
       "      <td>37.774599</td>\n",
       "    </tr>\n",
       "    <tr>\n",
       "      <th>2</th>\n",
       "      <td>2015-05-13 23:33:00</td>\n",
       "      <td>OTHER OFFENSES</td>\n",
       "      <td>TRAFFIC VIOLATION ARREST</td>\n",
       "      <td>Wednesday</td>\n",
       "      <td>NORTHERN</td>\n",
       "      <td>ARREST, BOOKED</td>\n",
       "      <td>VANNESS AV / GREENWICH ST</td>\n",
       "      <td>-122.424363</td>\n",
       "      <td>37.800414</td>\n",
       "    </tr>\n",
       "    <tr>\n",
       "      <th>3</th>\n",
       "      <td>2015-05-13 23:30:00</td>\n",
       "      <td>LARCENY/THEFT</td>\n",
       "      <td>GRAND THEFT FROM LOCKED AUTO</td>\n",
       "      <td>Wednesday</td>\n",
       "      <td>NORTHERN</td>\n",
       "      <td>NONE</td>\n",
       "      <td>1500 Block of LOMBARD ST</td>\n",
       "      <td>-122.426995</td>\n",
       "      <td>37.800873</td>\n",
       "    </tr>\n",
       "    <tr>\n",
       "      <th>4</th>\n",
       "      <td>2015-05-13 23:30:00</td>\n",
       "      <td>LARCENY/THEFT</td>\n",
       "      <td>GRAND THEFT FROM LOCKED AUTO</td>\n",
       "      <td>Wednesday</td>\n",
       "      <td>PARK</td>\n",
       "      <td>NONE</td>\n",
       "      <td>100 Block of BRODERICK ST</td>\n",
       "      <td>-122.438738</td>\n",
       "      <td>37.771541</td>\n",
       "    </tr>\n",
       "  </tbody>\n",
       "</table>\n",
       "</div>"
      ],
      "text/plain": [
       "                 Dates        Category                      Descript  \\\n",
       "0  2015-05-13 23:53:00        WARRANTS                WARRANT ARREST   \n",
       "1  2015-05-13 23:53:00  OTHER OFFENSES      TRAFFIC VIOLATION ARREST   \n",
       "2  2015-05-13 23:33:00  OTHER OFFENSES      TRAFFIC VIOLATION ARREST   \n",
       "3  2015-05-13 23:30:00   LARCENY/THEFT  GRAND THEFT FROM LOCKED AUTO   \n",
       "4  2015-05-13 23:30:00   LARCENY/THEFT  GRAND THEFT FROM LOCKED AUTO   \n",
       "\n",
       "   DayOfWeek PdDistrict      Resolution                    Address  \\\n",
       "0  Wednesday   NORTHERN  ARREST, BOOKED         OAK ST / LAGUNA ST   \n",
       "1  Wednesday   NORTHERN  ARREST, BOOKED         OAK ST / LAGUNA ST   \n",
       "2  Wednesday   NORTHERN  ARREST, BOOKED  VANNESS AV / GREENWICH ST   \n",
       "3  Wednesday   NORTHERN            NONE   1500 Block of LOMBARD ST   \n",
       "4  Wednesday       PARK            NONE  100 Block of BRODERICK ST   \n",
       "\n",
       "            X          Y  \n",
       "0 -122.425892  37.774599  \n",
       "1 -122.425892  37.774599  \n",
       "2 -122.424363  37.800414  \n",
       "3 -122.426995  37.800873  \n",
       "4 -122.438738  37.771541  "
      ]
     },
     "execution_count": 4,
     "metadata": {},
     "output_type": "execute_result"
    }
   ],
   "source": [
    "trainDF.head()"
   ]
  },
  {
   "cell_type": "markdown",
   "metadata": {},
   "source": [
    "Clean up wrong X and Y values (very few of them)"
   ]
  },
  {
   "cell_type": "code",
   "execution_count": 5,
   "metadata": {
    "collapsed": false
   },
   "outputs": [
    {
     "data": {
      "image/png": "[encoded data removed]",
      "text/plain": [
       "<matplotlib.figure.Figure at 0x121eedb90>"
      ]
     },
     "metadata": {},
     "output_type": "display_data"
    }
   ],
   "source": [
    "xy_scaler=preprocessing.StandardScaler()\n",
    "xy_scaler.fit(trainDF[[\"X\",\"Y\"]])\n",
    "trainDF[[\"X\",\"Y\"]]=xy_scaler.transform(trainDF[[\"X\",\"Y\"]])\n",
    "trainDF=trainDF[abs(trainDF[\"Y\"])<100]\n",
    "trainDF.index=range(len(trainDF))\n",
    "plt.plot(trainDF[\"X\"],trainDF[\"Y\"],'.')\n",
    "plt.show()"
   ]
  },
  {
   "cell_type": "markdown",
   "metadata": {},
   "source": [
    "Make plots for each crime label"
   ]
  },
  {
   "cell_type": "code",
   "execution_count": 6,
   "metadata": {
    "collapsed": false
   },
   "outputs": [
    {
     "data": {
      "text/plain": [
       "(877982, 9)"
      ]
     },
     "execution_count": 6,
     "metadata": {},
     "output_type": "execute_result"
    }
   ],
   "source": [
    "trainDF.shape"
   ]
  },
  {
   "cell_type": "code",
   "execution_count": null,
   "metadata": {
    "collapsed": false
   },
   "outputs": [],
   "source": [
    "NX=100\n",
    "NY=100\n",
    "groups = trainDF.groupby('Category')\n",
    "ii=1\n",
    "plt.figure(figsize=(20, 20))\n",
    "for name, group in groups:\n",
    "    plt.subplot(8,5,ii)\n",
    "    histo, xedges, yedges = np.histogram2d(np.array(group.X),np.array(group.Y), bins=(NX,NY))\n",
    "    myextent  =[xedges[0],xedges[-1],yedges[0],yedges[-1]]\n",
    "    plt.imshow(histo.T,origin='low',extent=myextent,interpolation='nearest',aspect='auto',norm=LogNorm())\n",
    "    plt.title(name)\n",
    "#     plt.figure(ii)\n",
    "#     plt.plot(group.X,group.Y,'.')\n",
    "    ii+=1\n",
    "del groups"
   ]
  },
  {
   "cell_type": "markdown",
   "metadata": {},
   "source": [
    "# Now proceed as before"
   ]
  },
  {
   "cell_type": "code",
   "execution_count": 7,
   "metadata": {
    "collapsed": false
   },
   "outputs": [],
   "source": [
    "def parse_time(x):\n",
    "    DD=datetime.strptime(x,\"%Y-%m-%d %H:%M:%S\")\n",
    "    time=DD.hour#*60+DD.minute\n",
    "    day=DD.day\n",
    "    month=DD.month\n",
    "    year=DD.year\n",
    "    return time,day,month,year\n",
    "\n",
    "def get_season(x):\n",
    "    summer=0\n",
    "    fall=0\n",
    "    winter=0\n",
    "    spring=0\n",
    "    if (x in [5, 6, 7]):\n",
    "        summer=1\n",
    "    if (x in [8, 9, 10]):\n",
    "        fall=1\n",
    "    if (x in [11, 0, 1]):\n",
    "        winter=1\n",
    "    if (x in [2, 3, 4]):\n",
    "        spring=1\n",
    "    return summer, fall, winter, spring"
   ]
  },
  {
   "cell_type": "code",
   "execution_count": 24,
   "metadata": {
    "collapsed": false
   },
   "outputs": [],
   "source": [
    "def parse_data(df,logodds,logoddsPA):\n",
    "    \n",
    "    feature_list=df.columns.tolist()\n",
    "    \n",
    "    if \"Descript\" in feature_list:\n",
    "        feature_list.remove(\"Descript\")\n",
    "    if \"Resolution\" in feature_list:\n",
    "        feature_list.remove(\"Resolution\")\n",
    "    if \"Category\" in feature_list:\n",
    "        feature_list.remove(\"Category\")\n",
    "    if \"Id\" in feature_list:\n",
    "        feature_list.remove(\"Id\")\n",
    "        \n",
    "    cleanData=df[feature_list]\n",
    "    cleanData.index=range(len(df))\n",
    "    \n",
    "    print \"Creating address features\"\n",
    "    address_features=cleanData[\"Address\"].apply(lambda x: logodds[x])\n",
    "    address_features.columns=[\"logodds\"+str(x) for x in range(len(address_features.columns))]\n",
    "    \n",
    "    print \"Parsing dates\"\n",
    "    cleanData[\"Time\"], cleanData[\"Day\"], cleanData[\"Month\"], cleanData[\"Year\"]=zip(*cleanData[\"Dates\"].apply(parse_time))\n",
    "#     dummy_ranks_DAY = pd.get_dummies(cleanData['DayOfWeek'], prefix='DAY')\n",
    "    days = ['Monday', 'Tuesday', 'Wednesday', 'Thursday', 'Friday', 'Saturday', 'Sunday']\n",
    "#     cleanData[\"DayOfWeek\"]=cleanData[\"DayOfWeek\"].apply(lambda x: days.index(x)/float(len(days)))\n",
    "\n",
    "#     print \"Making geohash..\"\n",
    "#     cleanData['geohash'] = map(lambda x,y: Geohash.encode(x, y, precision=5), cleanData['X'],cleanData['Y'])\n",
    "\n",
    "    print \"Creating one-hot variables\"\n",
    "    dummy_ranks_PD = pd.get_dummies(cleanData['PdDistrict'], prefix='PD')\n",
    "    dummy_ranks_DAY = pd.get_dummies(cleanData[\"DayOfWeek\"], prefix='DAY')\n",
    "    #dummy_ranks_GEO = pd.get_dummies(cleanData[\"geohash\"], prefix='GEO')\n",
    "    \n",
    "    cleanData[\"IsInterection\"]=cleanData[\"Address\"].apply(lambda x: 1 if \"/\" in x else 0)\n",
    "    cleanData[\"logoddsPA\"]=cleanData[\"Address\"].apply(lambda x: logoddsPA[x])\n",
    "    \n",
    "    print \"droping processed columns\"\n",
    "    cleanData=cleanData.drop(\"PdDistrict\",axis=1)\n",
    "    cleanData=cleanData.drop(\"DayOfWeek\",axis=1)\n",
    "    cleanData=cleanData.drop(\"Address\",axis=1)\n",
    "    cleanData=cleanData.drop(\"Dates\",axis=1)\n",
    "    feature_list=cleanData.columns.tolist()\n",
    "    \n",
    "    print \"joining one-hot features\"\n",
    "    features = cleanData[feature_list].join(dummy_ranks_PD.ix[:,:]).join(dummy_ranks_DAY.ix[:,:]).join(address_features.ix[:,:])\n",
    "    \n",
    "    print \"creating new features\"\n",
    "    features[\"IsDup\"]=pd.Series(features.duplicated()|features.duplicated(take_last=True)).apply(int)\n",
    "    features[\"Awake\"]=features[\"Time\"].apply(lambda x: 1 if (x==0 or (x>=8 and x<=23)) else 0)\n",
    "    features[\"Summer\"], features[\"Fall\"], features[\"Winter\"], features[\"Spring\"]=zip(*features[\"Month\"].apply(get_season))\n",
    "    if \"Category\" in df.columns:\n",
    "        labels = df[\"Category\"].astype('category')\n",
    "#         label_names=labels.unique()\n",
    "#         labels=labels.cat.rename_categories(range(len(label_names)))\n",
    "    else:\n",
    "        labels=None\n",
    "    return features,labels"
   ]
  },
  {
   "cell_type": "markdown",
   "metadata": {},
   "source": [
    "This part is slower than it needs to be."
   ]
  },
  {
   "cell_type": "code",
   "execution_count": 9,
   "metadata": {
    "collapsed": false
   },
   "outputs": [],
   "source": [
    "addresses=sorted(trainDF[\"Address\"].unique())\n",
    "categories=sorted(trainDF[\"Category\"].unique())\n",
    "\n",
    "C_counts=trainDF.groupby([\"Category\"]).size()\n",
    "A_C_counts=trainDF.groupby([\"Address\",\"Category\"]).size()\n",
    "\n",
    "A_counts=trainDF.groupby([\"Address\"]).size()\n",
    "\n",
    "logodds={}\n",
    "logoddsPA={}\n",
    "\n",
    "MIN_CAT_COUNTS=2\n",
    "\n",
    "default_logodds=np.log(C_counts/len(trainDF))-np.log(1.0-C_counts/float(len(trainDF)))\n",
    "\n",
    "for addr in addresses:\n",
    "    PA=A_counts[addr]/float(len(trainDF))\n",
    "    logoddsPA[addr]=np.log(PA)-np.log(1.-PA)\n",
    "    logodds[addr]=deepcopy(default_logodds)\n",
    "    for cat in A_C_counts[addr].keys():\n",
    "        if (A_C_counts[addr][cat]>MIN_CAT_COUNTS) and A_C_counts[addr][cat]<A_counts[addr]:\n",
    "            PA=A_C_counts[addr][cat]/float(A_counts[addr])\n",
    "            logodds[addr][categories.index(cat)]=np.log(PA)-np.log(1.0-PA)\n",
    "    logodds[addr]=pd.Series(logodds[addr])\n",
    "    logodds[addr].index=range(len(categories))"
   ]
  },
  {
   "cell_type": "code",
   "execution_count": 95,
   "metadata": {
    "collapsed": false
   },
   "outputs": [
    {
     "name": "stdout",
     "output_type": "stream",
     "text": [
      "Creating address features\n",
      "Parsing dates\n"
     ]
    },
    {
     "name": "stderr",
     "output_type": "stream",
     "text": [
      "/Users/koza/ipykernel/ipykernel/__main__.py:22: SettingWithCopyWarning: \n",
      "A value is trying to be set on a copy of a slice from a DataFrame.\n",
      "Try using .loc[row_indexer,col_indexer] = value instead\n",
      "\n",
      "See the caveats in the documentation: http://pandas.pydata.org/pandas-docs/stable/indexing.html#indexing-view-versus-copy\n"
     ]
    },
    {
     "name": "stdout",
     "output_type": "stream",
     "text": [
      "Making geohash..\n",
      "Creating one-hot variables\n",
      "droping processed columns\n",
      "joining one-hot features\n",
      "creating new features\n"
     ]
    },
    {
     "name": "stderr",
     "output_type": "stream",
     "text": [
      "/Users/koza/ipykernel/ipykernel/__main__.py:49: FutureWarning: the take_last=True keyword is deprecated, use keep='last' instead\n"
     ]
    }
   ],
   "source": [
    "features, labels=parse_data(trainDF,logodds,logoddsPA)"
   ]
  },
  {
   "cell_type": "code",
   "execution_count": 96,
   "metadata": {
    "collapsed": false
   },
   "outputs": [
    {
     "name": "stdout",
     "output_type": "stream",
     "text": [
      "['X', 'Y', 'Time', 'Day', 'Month', 'Year', 'geohash', 'IsInterection', 'logoddsPA', 'PD_BAYVIEW', 'PD_CENTRAL', 'PD_INGLESIDE', 'PD_MISSION', 'PD_NORTHERN', 'PD_PARK', 'PD_RICHMOND', 'PD_SOUTHERN', 'PD_TARAVAL', 'PD_TENDERLOIN', 'DAY_Friday', 'DAY_Monday', 'DAY_Saturday', 'DAY_Sunday', 'DAY_Thursday', 'DAY_Tuesday', 'DAY_Wednesday', 'logodds0', 'logodds1', 'logodds2', 'logodds3', 'logodds4', 'logodds5', 'logodds6', 'logodds7', 'logodds8', 'logodds9', 'logodds10', 'logodds11', 'logodds12', 'logodds13', 'logodds14', 'logodds15', 'logodds16', 'logodds17', 'logodds18', 'logodds19', 'logodds20', 'logodds21', 'logodds22', 'logodds23', 'logodds24', 'logodds25', 'logodds26', 'logodds27', 'logodds28', 'logodds29', 'logodds30', 'logodds31', 'logodds32', 'logodds33', 'logodds34', 'logodds35', 'logodds36', 'logodds37', 'logodds38', 'IsDup', 'Awake', 'Summer', 'Fall', 'Winter', 'Spring']\n",
      "71\n"
     ]
    },
    {
     "data": {
      "text/html": [
       "<div>\n",
       "<table border=\"1\" class=\"dataframe\">\n",
       "  <thead>\n",
       "    <tr style=\"text-align: right;\">\n",
       "      <th></th>\n",
       "      <th>X</th>\n",
       "      <th>Y</th>\n",
       "      <th>Time</th>\n",
       "      <th>Day</th>\n",
       "      <th>Month</th>\n",
       "      <th>Year</th>\n",
       "      <th>geohash</th>\n",
       "      <th>IsInterection</th>\n",
       "      <th>logoddsPA</th>\n",
       "      <th>PD_BAYVIEW</th>\n",
       "      <th>...</th>\n",
       "      <th>logodds35</th>\n",
       "      <th>logodds36</th>\n",
       "      <th>logodds37</th>\n",
       "      <th>logodds38</th>\n",
       "      <th>IsDup</th>\n",
       "      <th>Awake</th>\n",
       "      <th>Summer</th>\n",
       "      <th>Fall</th>\n",
       "      <th>Winter</th>\n",
       "      <th>Spring</th>\n",
       "    </tr>\n",
       "  </thead>\n",
       "  <tbody>\n",
       "    <tr>\n",
       "      <th>0</th>\n",
       "      <td>-0.107902</td>\n",
       "      <td>0.007832</td>\n",
       "      <td>23</td>\n",
       "      <td>13</td>\n",
       "      <td>5</td>\n",
       "      <td>2015</td>\n",
       "      <td>kpbp2</td>\n",
       "      <td>1</td>\n",
       "      <td>-9.776872</td>\n",
       "      <td>0.0</td>\n",
       "      <td>...</td>\n",
       "      <td>-2.924833</td>\n",
       "      <td>-2.327278</td>\n",
       "      <td>-2.639057</td>\n",
       "      <td>-4.621318</td>\n",
       "      <td>1</td>\n",
       "      <td>1</td>\n",
       "      <td>1</td>\n",
       "      <td>0</td>\n",
       "      <td>0</td>\n",
       "      <td>0</td>\n",
       "    </tr>\n",
       "    <tr>\n",
       "      <th>1</th>\n",
       "      <td>-0.107902</td>\n",
       "      <td>0.007832</td>\n",
       "      <td>23</td>\n",
       "      <td>13</td>\n",
       "      <td>5</td>\n",
       "      <td>2015</td>\n",
       "      <td>kpbp2</td>\n",
       "      <td>1</td>\n",
       "      <td>-9.776872</td>\n",
       "      <td>0.0</td>\n",
       "      <td>...</td>\n",
       "      <td>-2.924833</td>\n",
       "      <td>-2.327278</td>\n",
       "      <td>-2.639057</td>\n",
       "      <td>-4.621318</td>\n",
       "      <td>1</td>\n",
       "      <td>1</td>\n",
       "      <td>1</td>\n",
       "      <td>0</td>\n",
       "      <td>0</td>\n",
       "      <td>0</td>\n",
       "    </tr>\n",
       "    <tr>\n",
       "      <th>2</th>\n",
       "      <td>-0.057541</td>\n",
       "      <td>0.064335</td>\n",
       "      <td>23</td>\n",
       "      <td>13</td>\n",
       "      <td>5</td>\n",
       "      <td>2015</td>\n",
       "      <td>kpbp9</td>\n",
       "      <td>1</td>\n",
       "      <td>-10.644405</td>\n",
       "      <td>0.0</td>\n",
       "      <td>...</td>\n",
       "      <td>-2.924833</td>\n",
       "      <td>-2.729672</td>\n",
       "      <td>-2.985798</td>\n",
       "      <td>-4.621318</td>\n",
       "      <td>0</td>\n",
       "      <td>1</td>\n",
       "      <td>1</td>\n",
       "      <td>0</td>\n",
       "      <td>0</td>\n",
       "      <td>0</td>\n",
       "    </tr>\n",
       "    <tr>\n",
       "      <th>3</th>\n",
       "      <td>-0.144262</td>\n",
       "      <td>0.065338</td>\n",
       "      <td>23</td>\n",
       "      <td>13</td>\n",
       "      <td>5</td>\n",
       "      <td>2015</td>\n",
       "      <td>kpbp1</td>\n",
       "      <td>0</td>\n",
       "      <td>-8.613596</td>\n",
       "      <td>0.0</td>\n",
       "      <td>...</td>\n",
       "      <td>-3.212187</td>\n",
       "      <td>-3.401197</td>\n",
       "      <td>-3.925268</td>\n",
       "      <td>-4.621318</td>\n",
       "      <td>0</td>\n",
       "      <td>1</td>\n",
       "      <td>1</td>\n",
       "      <td>0</td>\n",
       "      <td>0</td>\n",
       "      <td>0</td>\n",
       "    </tr>\n",
       "    <tr>\n",
       "      <th>4</th>\n",
       "      <td>-0.531112</td>\n",
       "      <td>0.001140</td>\n",
       "      <td>23</td>\n",
       "      <td>13</td>\n",
       "      <td>5</td>\n",
       "      <td>2015</td>\n",
       "      <td>kpbhb</td>\n",
       "      <td>0</td>\n",
       "      <td>-9.561747</td>\n",
       "      <td>0.0</td>\n",
       "      <td>...</td>\n",
       "      <td>-2.240710</td>\n",
       "      <td>-2.240710</td>\n",
       "      <td>-2.985798</td>\n",
       "      <td>-4.621318</td>\n",
       "      <td>0</td>\n",
       "      <td>1</td>\n",
       "      <td>1</td>\n",
       "      <td>0</td>\n",
       "      <td>0</td>\n",
       "      <td>0</td>\n",
       "    </tr>\n",
       "  </tbody>\n",
       "</table>\n",
       "<p>5 rows × 71 columns</p>\n",
       "</div>"
      ],
      "text/plain": [
       "          X         Y  Time  Day  Month  Year geohash  IsInterection  \\\n",
       "0 -0.107902  0.007832    23   13      5  2015   kpbp2              1   \n",
       "1 -0.107902  0.007832    23   13      5  2015   kpbp2              1   \n",
       "2 -0.057541  0.064335    23   13      5  2015   kpbp9              1   \n",
       "3 -0.144262  0.065338    23   13      5  2015   kpbp1              0   \n",
       "4 -0.531112  0.001140    23   13      5  2015   kpbhb              0   \n",
       "\n",
       "   logoddsPA  PD_BAYVIEW   ...    logodds35  logodds36  logodds37  logodds38  \\\n",
       "0  -9.776872         0.0   ...    -2.924833  -2.327278  -2.639057  -4.621318   \n",
       "1  -9.776872         0.0   ...    -2.924833  -2.327278  -2.639057  -4.621318   \n",
       "2 -10.644405         0.0   ...    -2.924833  -2.729672  -2.985798  -4.621318   \n",
       "3  -8.613596         0.0   ...    -3.212187  -3.401197  -3.925268  -4.621318   \n",
       "4  -9.561747         0.0   ...    -2.240710  -2.240710  -2.985798  -4.621318   \n",
       "\n",
       "   IsDup  Awake  Summer  Fall  Winter  Spring  \n",
       "0      1      1       1     0       0       0  \n",
       "1      1      1       1     0       0       0  \n",
       "2      0      1       1     0       0       0  \n",
       "3      0      1       1     0       0       0  \n",
       "4      0      1       1     0       0       0  \n",
       "\n",
       "[5 rows x 71 columns]"
      ]
     },
     "execution_count": 96,
     "metadata": {},
     "output_type": "execute_result"
    }
   ],
   "source": [
    "print features.columns.tolist()\n",
    "print len(features.columns)\n",
    "features.head()"
   ]
  },
  {
   "cell_type": "code",
   "execution_count": 80,
   "metadata": {
    "collapsed": false
   },
   "outputs": [],
   "source": [
    "# Reducing the number of features is counter productive.\n",
    "'''\n",
    "from sklearn.feature_selection import VarianceThreshold\n",
    "X = features.copy(deep=True)\n",
    "sel = VarianceThreshold(threshold=(.8 * (1 - .8)))\n",
    "reduced = sel.fit_transform(X)\n",
    "features = pd.DataFrame(reduced)\n",
    "'''"
   ]
  },
  {
   "cell_type": "code",
   "execution_count": 99,
   "metadata": {
    "collapsed": false
   },
   "outputs": [
    {
     "data": {
      "text/html": [
       "<div>\n",
       "<table border=\"1\" class=\"dataframe\">\n",
       "  <thead>\n",
       "    <tr style=\"text-align: right;\">\n",
       "      <th></th>\n",
       "      <th>X</th>\n",
       "      <th>Y</th>\n",
       "      <th>Time</th>\n",
       "      <th>Day</th>\n",
       "      <th>Month</th>\n",
       "      <th>Year</th>\n",
       "      <th>IsInterection</th>\n",
       "      <th>logoddsPA</th>\n",
       "      <th>PD_BAYVIEW</th>\n",
       "      <th>PD_CENTRAL</th>\n",
       "      <th>...</th>\n",
       "      <th>logodds35</th>\n",
       "      <th>logodds36</th>\n",
       "      <th>logodds37</th>\n",
       "      <th>logodds38</th>\n",
       "      <th>IsDup</th>\n",
       "      <th>Awake</th>\n",
       "      <th>Summer</th>\n",
       "      <th>Fall</th>\n",
       "      <th>Winter</th>\n",
       "      <th>Spring</th>\n",
       "    </tr>\n",
       "  </thead>\n",
       "  <tbody>\n",
       "    <tr>\n",
       "      <th>0</th>\n",
       "      <td>-0.123732</td>\n",
       "      <td>0.313018</td>\n",
       "      <td>1.463812</td>\n",
       "      <td>-0.292669</td>\n",
       "      <td>-0.418903</td>\n",
       "      <td>1.731591</td>\n",
       "      <td>1.538547</td>\n",
       "      <td>-0.584780</td>\n",
       "      <td>-0.336748</td>\n",
       "      <td>-0.328369</td>\n",
       "      <td>...</td>\n",
       "      <td>0.172386</td>\n",
       "      <td>0.668083</td>\n",
       "      <td>0.415560</td>\n",
       "      <td>-0.194372</td>\n",
       "      <td>1.257835</td>\n",
       "      <td>0.390475</td>\n",
       "      <td>1.72683</td>\n",
       "      <td>-0.579573</td>\n",
       "      <td>-0.447534</td>\n",
       "      <td>-0.587391</td>\n",
       "    </tr>\n",
       "    <tr>\n",
       "      <th>1</th>\n",
       "      <td>-0.123732</td>\n",
       "      <td>0.313018</td>\n",
       "      <td>1.463812</td>\n",
       "      <td>-0.292669</td>\n",
       "      <td>-0.418903</td>\n",
       "      <td>1.731591</td>\n",
       "      <td>1.538547</td>\n",
       "      <td>-0.584780</td>\n",
       "      <td>-0.336748</td>\n",
       "      <td>-0.328369</td>\n",
       "      <td>...</td>\n",
       "      <td>0.172386</td>\n",
       "      <td>0.668083</td>\n",
       "      <td>0.415560</td>\n",
       "      <td>-0.194372</td>\n",
       "      <td>1.257835</td>\n",
       "      <td>0.390475</td>\n",
       "      <td>1.72683</td>\n",
       "      <td>-0.579573</td>\n",
       "      <td>-0.447534</td>\n",
       "      <td>-0.587391</td>\n",
       "    </tr>\n",
       "    <tr>\n",
       "      <th>2</th>\n",
       "      <td>-0.063274</td>\n",
       "      <td>1.381346</td>\n",
       "      <td>1.463812</td>\n",
       "      <td>-0.292669</td>\n",
       "      <td>-0.418903</td>\n",
       "      <td>1.731591</td>\n",
       "      <td>1.538547</td>\n",
       "      <td>-1.054282</td>\n",
       "      <td>-0.336748</td>\n",
       "      <td>-0.328369</td>\n",
       "      <td>...</td>\n",
       "      <td>0.172386</td>\n",
       "      <td>0.331867</td>\n",
       "      <td>-0.242038</td>\n",
       "      <td>-0.194372</td>\n",
       "      <td>-0.795017</td>\n",
       "      <td>0.390475</td>\n",
       "      <td>1.72683</td>\n",
       "      <td>-0.579573</td>\n",
       "      <td>-0.447534</td>\n",
       "      <td>-0.587391</td>\n",
       "    </tr>\n",
       "    <tr>\n",
       "      <th>3</th>\n",
       "      <td>-0.167381</td>\n",
       "      <td>1.400312</td>\n",
       "      <td>1.463812</td>\n",
       "      <td>-0.292669</td>\n",
       "      <td>-0.418903</td>\n",
       "      <td>1.731591</td>\n",
       "      <td>-0.649964</td>\n",
       "      <td>0.044776</td>\n",
       "      <td>-0.336748</td>\n",
       "      <td>-0.328369</td>\n",
       "      <td>...</td>\n",
       "      <td>-0.222705</td>\n",
       "      <td>-0.229219</td>\n",
       "      <td>-2.023754</td>\n",
       "      <td>-0.194372</td>\n",
       "      <td>-0.795017</td>\n",
       "      <td>0.390475</td>\n",
       "      <td>1.72683</td>\n",
       "      <td>-0.579573</td>\n",
       "      <td>-0.447534</td>\n",
       "      <td>-0.587391</td>\n",
       "    </tr>\n",
       "    <tr>\n",
       "      <th>4</th>\n",
       "      <td>-0.631787</td>\n",
       "      <td>0.186493</td>\n",
       "      <td>1.463812</td>\n",
       "      <td>-0.292669</td>\n",
       "      <td>-0.418903</td>\n",
       "      <td>1.731591</td>\n",
       "      <td>-0.649964</td>\n",
       "      <td>-0.468356</td>\n",
       "      <td>-0.336748</td>\n",
       "      <td>-0.328369</td>\n",
       "      <td>...</td>\n",
       "      <td>1.113007</td>\n",
       "      <td>0.740414</td>\n",
       "      <td>-0.242038</td>\n",
       "      <td>-0.194372</td>\n",
       "      <td>-0.795017</td>\n",
       "      <td>0.390475</td>\n",
       "      <td>1.72683</td>\n",
       "      <td>-0.579573</td>\n",
       "      <td>-0.447534</td>\n",
       "      <td>-0.587391</td>\n",
       "    </tr>\n",
       "  </tbody>\n",
       "</table>\n",
       "<p>5 rows × 70 columns</p>\n",
       "</div>"
      ],
      "text/plain": [
       "          X         Y      Time       Day     Month      Year  IsInterection  \\\n",
       "0 -0.123732  0.313018  1.463812 -0.292669 -0.418903  1.731591       1.538547   \n",
       "1 -0.123732  0.313018  1.463812 -0.292669 -0.418903  1.731591       1.538547   \n",
       "2 -0.063274  1.381346  1.463812 -0.292669 -0.418903  1.731591       1.538547   \n",
       "3 -0.167381  1.400312  1.463812 -0.292669 -0.418903  1.731591      -0.649964   \n",
       "4 -0.631787  0.186493  1.463812 -0.292669 -0.418903  1.731591      -0.649964   \n",
       "\n",
       "   logoddsPA  PD_BAYVIEW  PD_CENTRAL    ...     logodds35  logodds36  \\\n",
       "0  -0.584780   -0.336748   -0.328369    ...      0.172386   0.668083   \n",
       "1  -0.584780   -0.336748   -0.328369    ...      0.172386   0.668083   \n",
       "2  -1.054282   -0.336748   -0.328369    ...      0.172386   0.331867   \n",
       "3   0.044776   -0.336748   -0.328369    ...     -0.222705  -0.229219   \n",
       "4  -0.468356   -0.336748   -0.328369    ...      1.113007   0.740414   \n",
       "\n",
       "   logodds37  logodds38     IsDup     Awake   Summer      Fall    Winter  \\\n",
       "0   0.415560  -0.194372  1.257835  0.390475  1.72683 -0.579573 -0.447534   \n",
       "1   0.415560  -0.194372  1.257835  0.390475  1.72683 -0.579573 -0.447534   \n",
       "2  -0.242038  -0.194372 -0.795017  0.390475  1.72683 -0.579573 -0.447534   \n",
       "3  -2.023754  -0.194372 -0.795017  0.390475  1.72683 -0.579573 -0.447534   \n",
       "4  -0.242038  -0.194372 -0.795017  0.390475  1.72683 -0.579573 -0.447534   \n",
       "\n",
       "     Spring  \n",
       "0 -0.587391  \n",
       "1 -0.587391  \n",
       "2 -0.587391  \n",
       "3 -0.587391  \n",
       "4 -0.587391  \n",
       "\n",
       "[5 rows x 70 columns]"
      ]
     },
     "execution_count": 99,
     "metadata": {},
     "output_type": "execute_result"
    }
   ],
   "source": [
    "features.head()\n"
   ]
  },
  {
   "cell_type": "code",
   "execution_count": 100,
   "metadata": {
    "collapsed": false
   },
   "outputs": [
    {
     "ename": "KeyError",
     "evalue": "'geohash'",
     "output_type": "error",
     "traceback": [
      "\u001b[0;31m---------------------------------------------------------------------------\u001b[0m",
      "\u001b[0;31mKeyError\u001b[0m                                  Traceback (most recent call last)",
      "\u001b[0;32m<ipython-input-100-8b95c445d1ef>\u001b[0m in \u001b[0;36m<module>\u001b[0;34m()\u001b[0m\n\u001b[1;32m      1\u001b[0m \u001b[0;31m# num_feature_list=[\"Time\",\"Day\",\"Month\",\"Year\",\"DayOfWeek\"]\u001b[0m\u001b[0;34m\u001b[0m\u001b[0;34m\u001b[0m\u001b[0m\n\u001b[0;32m----> 2\u001b[0;31m \u001b[0;32mdel\u001b[0m \u001b[0mfeatures\u001b[0m\u001b[0;34m[\u001b[0m\u001b[0;34m'geohash'\u001b[0m\u001b[0;34m]\u001b[0m\u001b[0;34m\u001b[0m\u001b[0m\n\u001b[0m\u001b[1;32m      3\u001b[0m \u001b[0mcollist\u001b[0m\u001b[0;34m=\u001b[0m\u001b[0mfeatures\u001b[0m\u001b[0;34m.\u001b[0m\u001b[0mcolumns\u001b[0m\u001b[0;34m.\u001b[0m\u001b[0mtolist\u001b[0m\u001b[0;34m(\u001b[0m\u001b[0;34m)\u001b[0m\u001b[0;34m\u001b[0m\u001b[0m\n\u001b[1;32m      4\u001b[0m \u001b[0mscaler\u001b[0m \u001b[0;34m=\u001b[0m \u001b[0mpreprocessing\u001b[0m\u001b[0;34m.\u001b[0m\u001b[0mStandardScaler\u001b[0m\u001b[0;34m(\u001b[0m\u001b[0;34m)\u001b[0m\u001b[0;34m\u001b[0m\u001b[0m\n\u001b[1;32m      5\u001b[0m \u001b[0mscaler\u001b[0m\u001b[0;34m.\u001b[0m\u001b[0mfit\u001b[0m\u001b[0;34m(\u001b[0m\u001b[0mfeatures\u001b[0m\u001b[0;34m)\u001b[0m\u001b[0;34m\u001b[0m\u001b[0m\n",
      "\u001b[0;32m/Users/koza/anaconda2/lib/python2.7/site-packages/pandas/core/generic.pyc\u001b[0m in \u001b[0;36m__delitem__\u001b[0;34m(self, key)\u001b[0m\n\u001b[1;32m   1599\u001b[0m             \u001b[0;31m# there was no match, this call should raise the appropriate\u001b[0m\u001b[0;34m\u001b[0m\u001b[0;34m\u001b[0m\u001b[0m\n\u001b[1;32m   1600\u001b[0m             \u001b[0;31m# exception:\u001b[0m\u001b[0;34m\u001b[0m\u001b[0;34m\u001b[0m\u001b[0m\n\u001b[0;32m-> 1601\u001b[0;31m             \u001b[0mself\u001b[0m\u001b[0;34m.\u001b[0m\u001b[0m_data\u001b[0m\u001b[0;34m.\u001b[0m\u001b[0mdelete\u001b[0m\u001b[0;34m(\u001b[0m\u001b[0mkey\u001b[0m\u001b[0;34m)\u001b[0m\u001b[0;34m\u001b[0m\u001b[0m\n\u001b[0m\u001b[1;32m   1602\u001b[0m \u001b[0;34m\u001b[0m\u001b[0m\n\u001b[1;32m   1603\u001b[0m         \u001b[0;31m# delete from the caches\u001b[0m\u001b[0;34m\u001b[0m\u001b[0;34m\u001b[0m\u001b[0m\n",
      "\u001b[0;32m/Users/koza/anaconda2/lib/python2.7/site-packages/pandas/core/internals.pyc\u001b[0m in \u001b[0;36mdelete\u001b[0;34m(self, item)\u001b[0m\n\u001b[1;32m   3282\u001b[0m         \u001b[0mDelete\u001b[0m \u001b[0mselected\u001b[0m \u001b[0mitem\u001b[0m \u001b[0;34m(\u001b[0m\u001b[0mitems\u001b[0m \u001b[0;32mif\u001b[0m \u001b[0mnon\u001b[0m\u001b[0;34m-\u001b[0m\u001b[0munique\u001b[0m\u001b[0;34m)\u001b[0m \u001b[0;32min\u001b[0m\u001b[0;34m-\u001b[0m\u001b[0mplace\u001b[0m\u001b[0;34m.\u001b[0m\u001b[0;34m\u001b[0m\u001b[0m\n\u001b[1;32m   3283\u001b[0m         \"\"\"\n\u001b[0;32m-> 3284\u001b[0;31m         \u001b[0mindexer\u001b[0m \u001b[0;34m=\u001b[0m \u001b[0mself\u001b[0m\u001b[0;34m.\u001b[0m\u001b[0mitems\u001b[0m\u001b[0;34m.\u001b[0m\u001b[0mget_loc\u001b[0m\u001b[0;34m(\u001b[0m\u001b[0mitem\u001b[0m\u001b[0;34m)\u001b[0m\u001b[0;34m\u001b[0m\u001b[0m\n\u001b[0m\u001b[1;32m   3285\u001b[0m \u001b[0;34m\u001b[0m\u001b[0m\n\u001b[1;32m   3286\u001b[0m         \u001b[0mis_deleted\u001b[0m \u001b[0;34m=\u001b[0m \u001b[0mnp\u001b[0m\u001b[0;34m.\u001b[0m\u001b[0mzeros\u001b[0m\u001b[0;34m(\u001b[0m\u001b[0mself\u001b[0m\u001b[0;34m.\u001b[0m\u001b[0mshape\u001b[0m\u001b[0;34m[\u001b[0m\u001b[0;36m0\u001b[0m\u001b[0;34m]\u001b[0m\u001b[0;34m,\u001b[0m \u001b[0mdtype\u001b[0m\u001b[0;34m=\u001b[0m\u001b[0mnp\u001b[0m\u001b[0;34m.\u001b[0m\u001b[0mbool_\u001b[0m\u001b[0;34m)\u001b[0m\u001b[0;34m\u001b[0m\u001b[0m\n",
      "\u001b[0;32m/Users/koza/anaconda2/lib/python2.7/site-packages/pandas/indexes/base.pyc\u001b[0m in \u001b[0;36mget_loc\u001b[0;34m(self, key, method, tolerance)\u001b[0m\n\u001b[1;32m   1876\u001b[0m                 \u001b[0;32mreturn\u001b[0m \u001b[0mself\u001b[0m\u001b[0;34m.\u001b[0m\u001b[0m_engine\u001b[0m\u001b[0;34m.\u001b[0m\u001b[0mget_loc\u001b[0m\u001b[0;34m(\u001b[0m\u001b[0mkey\u001b[0m\u001b[0;34m)\u001b[0m\u001b[0;34m\u001b[0m\u001b[0m\n\u001b[1;32m   1877\u001b[0m             \u001b[0;32mexcept\u001b[0m \u001b[0mKeyError\u001b[0m\u001b[0;34m:\u001b[0m\u001b[0;34m\u001b[0m\u001b[0m\n\u001b[0;32m-> 1878\u001b[0;31m                 \u001b[0;32mreturn\u001b[0m \u001b[0mself\u001b[0m\u001b[0;34m.\u001b[0m\u001b[0m_engine\u001b[0m\u001b[0;34m.\u001b[0m\u001b[0mget_loc\u001b[0m\u001b[0;34m(\u001b[0m\u001b[0mself\u001b[0m\u001b[0;34m.\u001b[0m\u001b[0m_maybe_cast_indexer\u001b[0m\u001b[0;34m(\u001b[0m\u001b[0mkey\u001b[0m\u001b[0;34m)\u001b[0m\u001b[0;34m)\u001b[0m\u001b[0;34m\u001b[0m\u001b[0m\n\u001b[0m\u001b[1;32m   1879\u001b[0m \u001b[0;34m\u001b[0m\u001b[0m\n\u001b[1;32m   1880\u001b[0m         \u001b[0mindexer\u001b[0m \u001b[0;34m=\u001b[0m \u001b[0mself\u001b[0m\u001b[0;34m.\u001b[0m\u001b[0mget_indexer\u001b[0m\u001b[0;34m(\u001b[0m\u001b[0;34m[\u001b[0m\u001b[0mkey\u001b[0m\u001b[0;34m]\u001b[0m\u001b[0;34m,\u001b[0m \u001b[0mmethod\u001b[0m\u001b[0;34m=\u001b[0m\u001b[0mmethod\u001b[0m\u001b[0;34m,\u001b[0m \u001b[0mtolerance\u001b[0m\u001b[0;34m=\u001b[0m\u001b[0mtolerance\u001b[0m\u001b[0;34m)\u001b[0m\u001b[0;34m\u001b[0m\u001b[0m\n",
      "\u001b[0;32mpandas/index.pyx\u001b[0m in \u001b[0;36mpandas.index.IndexEngine.get_loc (pandas/index.c:4027)\u001b[0;34m()\u001b[0m\n",
      "\u001b[0;32mpandas/index.pyx\u001b[0m in \u001b[0;36mpandas.index.IndexEngine.get_loc (pandas/index.c:3891)\u001b[0;34m()\u001b[0m\n",
      "\u001b[0;32mpandas/hashtable.pyx\u001b[0m in \u001b[0;36mpandas.hashtable.PyObjectHashTable.get_item (pandas/hashtable.c:12408)\u001b[0;34m()\u001b[0m\n",
      "\u001b[0;32mpandas/hashtable.pyx\u001b[0m in \u001b[0;36mpandas.hashtable.PyObjectHashTable.get_item (pandas/hashtable.c:12359)\u001b[0;34m()\u001b[0m\n",
      "\u001b[0;31mKeyError\u001b[0m: 'geohash'"
     ]
    }
   ],
   "source": [
    "# num_feature_list=[\"Time\",\"Day\",\"Month\",\"Year\",\"DayOfWeek\"]\n",
    "#del features['geohash']\n",
    "collist=features.columns.tolist()\n",
    "scaler = preprocessing.StandardScaler()\n",
    "scaler.fit(features)\n",
    "features[collist]=scaler.transform(features)"
   ]
  },
  {
   "cell_type": "code",
   "execution_count": null,
   "metadata": {
    "collapsed": false
   },
   "outputs": [],
   "source": [
    "'''\n",
    "new_PCA=PCA(n_components=64)\n",
    "new_PCA.fit(features)\n",
    "plt.plot(new_PCA.explained_variance_ratio_)\n",
    "plt.yscale('log')\n",
    "plt.title(\"PCA explained ratio of features\")\n",
    "print new_PCA.explained_variance_ratio_\n",
    "'''"
   ]
  },
  {
   "cell_type": "code",
   "execution_count": null,
   "metadata": {
    "collapsed": false
   },
   "outputs": [],
   "source": [
    "'''\n",
    "plt.plot(new_PCA.explained_variance_ratio_.cumsum())\n",
    "plt.title(\"cumsum of PCA explained ratio\")\n",
    "'''"
   ]
  },
  {
   "cell_type": "markdown",
   "metadata": {},
   "source": [
    "PCA is interesting, here to play with it more"
   ]
  },
  {
   "cell_type": "code",
   "execution_count": null,
   "metadata": {
    "collapsed": false
   },
   "outputs": [],
   "source": [
    "'''\n",
    "features=new_PCA.transform(features)\n",
    "features=pd.DataFrame(features)\n",
    "'''"
   ]
  },
  {
   "cell_type": "code",
   "execution_count": 101,
   "metadata": {
    "collapsed": false
   },
   "outputs": [],
   "source": [
    "sss = StratifiedShuffleSplit(labels, train_size=0.5)\n",
    "for train_index, test_index in sss:\n",
    "    features_train,features_test=features.iloc[train_index],features.iloc[test_index]\n",
    "    labels_train,labels_test=labels[train_index],labels[test_index]\n",
    "\n",
    "features_test.index=range(len(features_test))\n",
    "features_train.index=range(len(features_train))\n",
    "labels_train.index=range(len(labels_train))\n",
    "labels_test.index=range(len(labels_test))\n",
    "features.index=range(len(features))\n",
    "labels.index=range(len(labels))"
   ]
  },
  {
   "cell_type": "code",
   "execution_count": 31,
   "metadata": {
    "collapsed": true
   },
   "outputs": [],
   "source": [
    "#save features to disk\n",
    "features_train.to_csv(os.path.join(data_path,'features_train.csv'),index_label=\"Id\",na_rep=\"0\")"
   ]
  },
  {
   "cell_type": "code",
   "execution_count": 32,
   "metadata": {
    "collapsed": true
   },
   "outputs": [],
   "source": [
    "labels_train.to_csv(os.path.join(data_path,'labels_train.csv'),header=False, index=False)"
   ]
  },
  {
   "cell_type": "code",
   "execution_count": 33,
   "metadata": {
    "collapsed": false
   },
   "outputs": [],
   "source": [
    "features_test.to_csv(os.path.join(data_path,'features_dev.csv'),index_label=\"Id\",na_rep=\"0\")"
   ]
  },
  {
   "cell_type": "code",
   "execution_count": 34,
   "metadata": {
    "collapsed": false
   },
   "outputs": [],
   "source": [
    "labels_test.to_csv(os.path.join(data_path,'labels_dev.csv'),header=False, index=False)"
   ]
  },
  {
   "cell_type": "markdown",
   "metadata": {},
   "source": [
    "### PCA and Gaussian noise in MLP neural network training improve generalization in problems with small and unbalanced data sets\n",
    "http://ieeexplore.ieee.org/xpls/icp.jsp?arnumber=6033567\n",
    "\n",
    "Since our data set is unbalanced - the bulk of the data is one class - we try using noise to mitigate this issue. The sigma (STD, or, sqrt of variance) is caluculated experimentally from values in range [.05, 0.10, 0.15, 0.20, 0.25]"
   ]
  },
  {
   "cell_type": "code",
   "execution_count": 102,
   "metadata": {
    "collapsed": false
   },
   "outputs": [],
   "source": [
    "def build_and_fit_model(X_train,y_train,X_test=None,y_test=None,hn=128,dp=0.5,layers=1,epochs=1,batches=64,verbose=0):\n",
    "    input_dim=X_train.shape[1]\n",
    "    output_dim=len(labels_train.unique())\n",
    "    Y_train=y_train.cat.rename_categories(range(len(y_train.unique())))\n",
    "\n",
    "    model = Sequential()\n",
    "    model.add(Dense(input_dim=input_dim, output_dim=hn, init='glorot_uniform'))\n",
    "    model.add(PReLU(input_shape=(hn,)))\n",
    "    model.add(Dropout(dp))\n",
    "    \n",
    "    for i in range(layers):\n",
    "        model.add(Dense(input_dim=hn, output_dim=hn,init='glorot_uniform'))\n",
    "        model.add(PReLU(input_shape=(hn,)))\n",
    "        model.add(BatchNormalization())\n",
    "        model.add(GaussianNoise(.2))\n",
    "        model.add(Dropout(dp))\n",
    "\n",
    "    model.add(Dense(input_dim=hn, output_dim=output_dim,init='glorot_uniform'))\n",
    "    model.add(Activation('softmax'))\n",
    "    model.compile(loss='sparse_categorical_crossentropy', optimizer='adam')\n",
    "    \n",
    "    if X_test is not None:\n",
    "        Y_test=y_test.cat.rename_categories(range(len(y_test.unique())))\n",
    "        fitting=model.fit(X_train, Y_train, nb_epoch=epochs, batch_size=batches,verbose=verbose,validation_data=(X_test,Y_test))\n",
    "        test_score = log_loss(y_test, model.predict_proba(X_test,verbose=0))\n",
    "    else:\n",
    "        model.fit(X_train, Y_train, nb_epoch=epochs, batch_size=batches,verbose=verbose)\n",
    "        fitting=0\n",
    "        test_score = 0\n",
    "    return test_score, fitting, model"
   ]
  },
  {
   "cell_type": "code",
   "execution_count": 103,
   "metadata": {
    "collapsed": true
   },
   "outputs": [],
   "source": [
    "N_EPOCHS=5\n",
    "N_HN=32\n",
    "N_LAYERS=1\n",
    "DP=0.5"
   ]
  },
  {
   "cell_type": "code",
   "execution_count": null,
   "metadata": {
    "collapsed": false
   },
   "outputs": [
    {
     "name": "stdout",
     "output_type": "stream",
     "text": [
      "Train on 438991 samples, validate on 438988 samples\n",
      "Epoch 1/5\n",
      "13s - loss: 2.5381 - val_loss: 2.3032\n",
      "Epoch 2/5\n",
      "14s - loss: 2.3925 - val_loss: 2.2881\n",
      "Epoch 3/5\n",
      "12s - loss: 2.3759 - val_loss: 2.2768\n",
      "Epoch 4/5\n",
      "13s - loss: 2.3676 - val_loss: 2.2722\n",
      "Epoch 5/5\n"
     ]
    }
   ],
   "source": [
    "score, fitting, model = build_and_fit_model(features_train.as_matrix(),labels_train,X_test=features_test.as_matrix(),y_test=labels_test,hn=N_HN,layers=N_LAYERS,epochs=N_EPOCHS,verbose=2,dp=DP)"
   ]
  },
  {
   "cell_type": "markdown",
   "metadata": {},
   "source": [
    "Epoch 50/50\n",
    "84s - loss: 2.1668 - val_loss: 2.1467"
   ]
  },
  {
   "cell_type": "code",
   "execution_count": null,
   "metadata": {
    "collapsed": false
   },
   "outputs": [],
   "source": []
  },
  {
   "cell_type": "code",
   "execution_count": 94,
   "metadata": {
    "collapsed": false
   },
   "outputs": [
    {
     "name": "stdout",
     "output_type": "stream",
     "text": [
      "all 2.14415636944\n",
      "train 2.13238342917\n",
      "test 2.15593005051\n"
     ]
    }
   ],
   "source": [
    "print \"all\", log_loss(labels, model.predict_proba(features.as_matrix(),verbose=0))\n",
    "print \"train\", log_loss(labels_train, model.predict_proba(features_train.as_matrix(),verbose=0))\n",
    "print \"test\", log_loss(labels_test, model.predict_proba(features_test.as_matrix(),verbose=0))"
   ]
  },
  {
   "cell_type": "code",
   "execution_count": 56,
   "metadata": {
    "collapsed": false
   },
   "outputs": [
    {
     "data": {
      "text/plain": [
       "<matplotlib.legend.Legend at 0x148937410>"
      ]
     },
     "execution_count": 56,
     "metadata": {},
     "output_type": "execute_result"
    },
    {
     "data": {
      "image/png": "[encoded data removed]",
      "text/plain": [
       "<matplotlib.figure.Figure at 0x14f221410>"
      ]
     },
     "metadata": {},
     "output_type": "display_data"
    }
   ],
   "source": [
    "plt.plot(fitting.history['val_loss'],label=\"validation\")\n",
    "plt.plot(fitting.history['loss'],label=\"train\")\n",
    "# plt.xscale('log')\n",
    "plt.legend()"
   ]
  },
  {
   "cell_type": "markdown",
   "metadata": {},
   "source": [
    "Now train the final model"
   ]
  },
  {
   "cell_type": "code",
   "execution_count": 57,
   "metadata": {
    "collapsed": false
   },
   "outputs": [
    {
     "name": "stdout",
     "output_type": "stream",
     "text": [
      "Epoch 1/50\n",
      "140s - loss: 2.3156\n",
      "Epoch 2/50\n",
      "140s - loss: 2.2215\n",
      "Epoch 3/50\n",
      "140s - loss: 2.2105\n",
      "Epoch 4/50\n",
      "140s - loss: 2.2054\n",
      "Epoch 5/50\n",
      "140s - loss: 2.2018\n",
      "Epoch 6/50\n",
      "140s - loss: 2.1986\n",
      "Epoch 7/50\n",
      "140s - loss: 2.1958\n",
      "Epoch 8/50\n",
      "140s - loss: 2.1933\n",
      "Epoch 9/50\n",
      "140s - loss: 2.1916\n",
      "Epoch 10/50\n",
      "140s - loss: 2.1903\n",
      "Epoch 11/50\n",
      "140s - loss: 2.1889\n",
      "Epoch 12/50\n",
      "140s - loss: 2.1878\n",
      "Epoch 13/50\n",
      "140s - loss: 2.1861\n",
      "Epoch 14/50\n",
      "140s - loss: 2.1850\n",
      "Epoch 15/50\n",
      "140s - loss: 2.1835\n",
      "Epoch 16/50\n",
      "140s - loss: 2.1835\n",
      "Epoch 17/50\n",
      "140s - loss: 2.1828\n",
      "Epoch 18/50\n",
      "139s - loss: 2.1819\n",
      "Epoch 19/50\n",
      "138s - loss: 2.1809\n",
      "Epoch 20/50\n",
      "140s - loss: 2.1802\n",
      "Epoch 21/50\n",
      "139s - loss: 2.1795\n",
      "Epoch 22/50\n",
      "139s - loss: 2.1796\n",
      "Epoch 23/50\n",
      "139s - loss: 2.1788\n",
      "Epoch 24/50\n",
      "139s - loss: 2.1774\n",
      "Epoch 25/50\n",
      "139s - loss: 2.1770\n",
      "Epoch 26/50\n",
      "140s - loss: 2.1771\n",
      "Epoch 27/50\n",
      "139s - loss: 2.1766\n",
      "Epoch 28/50\n",
      "140s - loss: 2.1759\n",
      "Epoch 29/50\n",
      "140s - loss: 2.1754\n",
      "Epoch 30/50\n",
      "140s - loss: 2.1751\n",
      "Epoch 31/50\n",
      "139s - loss: 2.1751\n",
      "Epoch 32/50\n",
      "139s - loss: 2.1743\n",
      "Epoch 33/50\n",
      "139s - loss: 2.1743\n",
      "Epoch 34/50\n",
      "139s - loss: 2.1739\n",
      "Epoch 35/50\n",
      "140s - loss: 2.1735\n",
      "Epoch 36/50\n",
      "140s - loss: 2.1731\n",
      "Epoch 37/50\n",
      "140s - loss: 2.1732\n",
      "Epoch 38/50\n",
      "140s - loss: 2.1734\n",
      "Epoch 39/50\n",
      "139s - loss: 2.1727\n",
      "Epoch 40/50\n",
      "140s - loss: 2.1724\n",
      "Epoch 41/50\n",
      "139s - loss: 2.1718\n",
      "Epoch 42/50\n",
      "139s - loss: 2.1713\n",
      "Epoch 43/50\n",
      "140s - loss: 2.1714\n",
      "Epoch 44/50\n",
      "140s - loss: 2.1713\n",
      "Epoch 45/50\n",
      "140s - loss: 2.1712\n",
      "Epoch 46/50\n",
      "140s - loss: 2.1708\n",
      "Epoch 47/50\n",
      "140s - loss: 2.1706\n",
      "Epoch 48/50\n",
      "140s - loss: 2.1699\n",
      "Epoch 49/50\n",
      "140s - loss: 2.1702\n",
      "Epoch 50/50\n",
      "140s - loss: 2.1703\n"
     ]
    }
   ],
   "source": [
    "score, fitting, model = build_and_fit_model(features.as_matrix(),labels,hn=N_HN,layers=N_LAYERS,epochs=N_EPOCHS,verbose=2,dp=DP)"
   ]
  },
  {
   "cell_type": "markdown",
   "metadata": {},
   "source": [
    "Epoch 50/50\n",
    "140s - loss: 2.1703"
   ]
  },
  {
   "cell_type": "code",
   "execution_count": 58,
   "metadata": {
    "collapsed": false
   },
   "outputs": [
    {
     "name": "stdout",
     "output_type": "stream",
     "text": [
      "all 2.12140723183\n",
      "train 2.12165649855\n",
      "test 2.12115717898\n"
     ]
    }
   ],
   "source": [
    "print \"all\", log_loss(labels, model.predict_proba(features.as_matrix(),verbose=0))\n",
    "print \"train\", log_loss(labels_train, model.predict_proba(features_train.as_matrix(),verbose=0))\n",
    "print \"test\", log_loss(labels_test, model.predict_proba(features_test.as_matrix(),verbose=0))"
   ]
  },
  {
   "cell_type": "code",
   "execution_count": 59,
   "metadata": {
    "collapsed": false
   },
   "outputs": [],
   "source": [
    "testDF=pd.read_csv(os.path.join(data_path,\"test.csv\"))\n",
    "testDF[[\"X\",\"Y\"]]=xy_scaler.transform(testDF[[\"X\",\"Y\"]])\n",
    "#set outliers to 0\n",
    "testDF[\"X\"]=testDF[\"X\"].apply(lambda x: 0 if abs(x)>5 else x)\n",
    "testDF[\"Y\"]=testDF[\"Y\"].apply(lambda y: 0 if abs(y)>5 else y)"
   ]
  },
  {
   "cell_type": "code",
   "execution_count": 60,
   "metadata": {
    "collapsed": false
   },
   "outputs": [],
   "source": [
    "new_addresses=sorted(testDF[\"Address\"].unique())\n",
    "new_A_counts=testDF.groupby(\"Address\").size()\n",
    "only_new=set(new_addresses+addresses)-set(addresses)\n",
    "only_old=set(new_addresses+addresses)-set(new_addresses)\n",
    "in_both=set(new_addresses).intersection(addresses)\n",
    "for addr in only_new:\n",
    "    PA=new_A_counts[addr]/float(len(testDF)+len(trainDF))\n",
    "    logoddsPA[addr]=np.log(PA)-np.log(1.-PA)\n",
    "    logodds[addr]=deepcopy(default_logodds)\n",
    "    logodds[addr].index=range(len(categories))\n",
    "for addr in in_both:\n",
    "    PA=(A_counts[addr]+new_A_counts[addr])/float(len(testDF)+len(trainDF))\n",
    "    logoddsPA[addr]=np.log(PA)-np.log(1.-PA)"
   ]
  },
  {
   "cell_type": "code",
   "execution_count": 61,
   "metadata": {
    "collapsed": false
   },
   "outputs": [
    {
     "name": "stdout",
     "output_type": "stream",
     "text": [
      "Creating address features\n",
      "Parsing dates\n",
      "Making geohash..\n",
      "Creating one-hot variables\n",
      "droping processed columns\n",
      "joining one-hot features\n",
      "creating new features\n"
     ]
    },
    {
     "name": "stderr",
     "output_type": "stream",
     "text": [
      "/Users/koza/ipykernel/ipykernel/__main__.py:49: FutureWarning: the take_last=True keyword is deprecated, use keep='last' instead\n"
     ]
    }
   ],
   "source": [
    "features_sub, _=parse_data(testDF,logodds,logoddsPA)\n",
    "# scaler.fit(features_test)"
   ]
  },
  {
   "cell_type": "code",
   "execution_count": 68,
   "metadata": {
    "collapsed": false
   },
   "outputs": [
    {
     "name": "stdout",
     "output_type": "stream",
     "text": [
      "70\n"
     ]
    }
   ],
   "source": [
    "del features_sub['geohash']\n",
    "collist=features_sub.columns.tolist()\n",
    "print len(collist)"
   ]
  },
  {
   "cell_type": "code",
   "execution_count": 65,
   "metadata": {
    "collapsed": false
   },
   "outputs": [],
   "source": []
  },
  {
   "cell_type": "code",
   "execution_count": 69,
   "metadata": {
    "collapsed": false
   },
   "outputs": [],
   "source": [
    "features_sub[collist]=scaler.transform(features_sub[collist])"
   ]
  },
  {
   "cell_type": "code",
   "execution_count": 70,
   "metadata": {
    "collapsed": false
   },
   "outputs": [],
   "source": [
    "predDF=pd.DataFrame(model.predict_proba(features_sub.as_matrix(),verbose=0),columns=sorted(labels.unique()))"
   ]
  },
  {
   "cell_type": "code",
   "execution_count": null,
   "metadata": {
    "collapsed": false
   },
   "outputs": [],
   "source": [
    "predDF.head()"
   ]
  },
  {
   "cell_type": "code",
   "execution_count": 71,
   "metadata": {
    "collapsed": false
   },
   "outputs": [],
   "source": [
    "predDF.to_csv(os.path.join(submissions_path, \"crimeSF_NN_logodds212.csv\"),index_label=\"Id\",na_rep=\"0\")"
   ]
  },
  {
   "cell_type": "code",
   "execution_count": null,
   "metadata": {
    "collapsed": false
   },
   "outputs": [],
   "source": [
    "features_sub.head()"
   ]
  },
  {
   "cell_type": "code",
   "execution_count": null,
   "metadata": {
    "collapsed": false
   },
   "outputs": [],
   "source": [
    "classifier = LogisticRegression()\n",
    "lrmodel = classifier.fit(features_train.as_matrix(),labels_train)\n",
    "print lrmodel.score(features_test.as_matrix(),labels_test)"
   ]
  },
  {
   "cell_type": "code",
   "execution_count": null,
   "metadata": {
    "collapsed": false
   },
   "outputs": [],
   "source": [
    "print \"LR loss test\", log_loss(labels_test, lrmodel.predict_proba(features_test.as_matrix()))\n",
    "predDF_LR=pd.DataFrame(lrmodel.predict_proba(features_sub.as_matrix()),columns=sorted(labels.unique()))\n",
    "predDF_LR.to_csv(os.path.join(submissions_path, \"crimeSF_LR_logodds22.csv\"),index_label=\"Id\",na_rep=\"0\")"
   ]
  },
  {
   "cell_type": "code",
   "execution_count": null,
   "metadata": {
    "collapsed": false
   },
   "outputs": [],
   "source": [
    "from sklearn.ensemble import RandomForestClassifier\n",
    "classifier = RandomForestClassifier()\n",
    "rfmodel = classifier.fit(features_train.as_matrix(),labels_train)\n",
    "print rfmodel.score(features_test.as_matrix(),labels_test)"
   ]
  },
  {
   "cell_type": "code",
   "execution_count": null,
   "metadata": {
    "collapsed": false
   },
   "outputs": [],
   "source": [
    "print \"RF loss test\", log_loss(labels_test, rfmodel.predict_proba(features_test.as_matrix()))\n",
    "predDF_RF=pd.DataFrame(rfmodel.predict_proba(features_sub.as_matrix()),columns=sorted(labels.unique()))\n",
    "predDF_RF.to_csv(os.path.join(submissions_path, \"crimeSF_RF_logodds22.csv\"),index_label=\"Id\",na_rep=\"0\")"
   ]
  }
 ],
 "metadata": {
  "kernelspec": {
   "display_name": "Python 2",
   "language": "python",
   "name": "python2"
  },
  "language_info": {
   "codemirror_mode": {
    "name": "ipython",
    "version": 2
   },
   "file_extension": ".py",
   "mimetype": "text/x-python",
   "name": "python",
   "nbconvert_exporter": "python",
   "pygments_lexer": "ipython2",
   "version": "2.7.11"
  }
 },
 "nbformat": 4,
 "nbformat_minor": 0
}
